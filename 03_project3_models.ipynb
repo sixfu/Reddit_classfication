{
 "cells": [
  {
   "cell_type": "code",
   "execution_count": 2,
   "metadata": {},
   "outputs": [],
   "source": [
    "# imports\n",
    "import numpy as np\n",
    "import pandas as pd\n",
    "import matplotlib.pyplot as plt\n",
    "from matplotlib import cm\n",
    "from sklearn.model_selection import train_test_split, GridSearchCV,cross_val_score\n",
    "from sklearn.pipeline import Pipeline\n",
    "from sklearn.linear_model import LogisticRegression\n",
    "from sklearn.naive_bayes import MultinomialNB,GaussianNB\n",
    "from sklearn.metrics import confusion_matrix, plot_confusion_matrix\n",
    "from sklearn.neighbors import KNeighborsClassifier\n",
    "from sklearn.preprocessing import StandardScaler\n",
    "# Import CountVectorizer and TFIDFVectorizer from feature_extraction.text.\n",
    "from sklearn.feature_extraction.text import CountVectorizer, TfidfVectorizer\n",
    "# Import Bagging Classifier.\n",
    "from sklearn.ensemble import BaggingClassifier\n",
    "from sklearn.ensemble import RandomForestClassifier, ExtraTreesClassifier\n",
    "import joblib\n",
    "import timeit\n",
    "from sklearn.svm import SVC\n",
    "from sklearn.base import TransformerMixin # this allows us to create a custom transformer\n",
    "pd.set_option('display.max_rows',None)"
   ]
  },
  {
   "cell_type": "markdown",
   "metadata": {},
   "source": [
    "### Function to Run GridSearchCV for user provided vectorizer and model in the pipeline"
   ]
  },
  {
   "cell_type": "code",
   "execution_count": 27,
   "metadata": {},
   "outputs": [],
   "source": [
    "# define a function that combines the dataframe from two subreddit,and only keep the select columns for building models\n",
    "def combine_subreddit(df1,df2,col = ['subreddit','title'],subreddits = ('StarWars','marvelstudios')):\n",
    "#     input: df1,df2 -> the two dataframes from two different subreddit\n",
    "#            col -> list for the columns kept to use\n",
    "#            subreddit -> tuple contains the two subreddit information, 'StarWars' and 'marvelstudios' are default\n",
    "#     output: A dataframe combined df1 and df2 which only the columns in col, \n",
    "#             and the title column are coverted in 1(first subreddit in tuple subreddits)  and 0(the second subreddit in tuple subreddits)   \n",
    "        \n",
    "    data = pd.concat([df1[col],df2[col]])\n",
    "    data.reset_index(inplace = True,drop=True)\n",
    "    data['subreddit'] = data['subreddit'].map({subreddits[0]:1,subreddits[1]:0})\n",
    "    return data     "
   ]
  },
  {
   "cell_type": "code",
   "execution_count": 28,
   "metadata": {},
   "outputs": [],
   "source": [
    "#define a function that run GridSearchCV for user provided vectorizer and model\n",
    "def pipe_gridsearch_cv(X = None, y = None, pipelist = None,pipe_params = None,cv = 5):\n",
    "#     input: X -> the training matrix\n",
    "#            y -> the training target\n",
    "#            pipelist -> the list provoding the things in the Pipeline\n",
    "#            pipe_params -> the parameters for the pipe line\n",
    "#            cv -> the number of folds for cross validation in GridSearchCV\n",
    "#      output: The best estimator from GridSearchCV with the provided parameters\n",
    "\n",
    "    pipe = Pipeline(pipelist)\n",
    "    pipe_params = pipe_params\n",
    "    gs = GridSearchCV(pipe,\n",
    "                      param_grid = pipe_params,\n",
    "                      cv = cv)\n",
    "    gs.fit(X,y)\n",
    "    return gs"
   ]
  },
  {
   "cell_type": "markdown",
   "metadata": {},
   "source": [
    "#### 1. Count Vectorizer and Multinomial Naive Bayes grid search"
   ]
  },
  {
   "cell_type": "code",
   "execution_count": 29,
   "metadata": {},
   "outputs": [],
   "source": [
    "pipelist_cnb = [('cvec',CountVectorizer()),('nb',MultinomialNB())]\n",
    "pipe_params_cnb = {\n",
    "    'cvec__max_features' : [2000,3000,4000,5000,6000],\n",
    "    'cvec__min_df' : [2,3],\n",
    "    'cvec__max_df' : [0.9,0.95],\n",
    "    'cvec__ngram_range' : [(1,1),(1,2),(2,2)],\n",
    "    'cvec__stop_words' : [None,'english']\n",
    "}"
   ]
  },
  {
   "cell_type": "code",
   "execution_count": 31,
   "metadata": {},
   "outputs": [],
   "source": [
    "starwars_df = pd.read_csv('./data/starwars_10000.csv')\n",
    "marvel_df = pd.read_csv('./data/marvel_10000.csv')"
   ]
  },
  {
   "cell_type": "code",
   "execution_count": 32,
   "metadata": {},
   "outputs": [],
   "source": [
    "data_10000 = combine_subreddit(starwars_df,marvel_df)"
   ]
  },
  {
   "cell_type": "code",
   "execution_count": 33,
   "metadata": {},
   "outputs": [],
   "source": [
    "X = data_10000['title']\n",
    "y = data_10000['subreddit']\n",
    "X_train, X_test, y_train, y_test = train_test_split(X,\n",
    "                                                    y,\n",
    "                                                    test_size=0.33,\n",
    "                                                    stratify=y,\n",
    "                                                    random_state=42)"
   ]
  },
  {
   "cell_type": "code",
   "execution_count": 34,
   "metadata": {},
   "outputs": [
    {
     "name": "stdout",
     "output_type": "stream",
     "text": [
      "125.30800519999957\n"
     ]
    }
   ],
   "source": [
    "# Search for the best estimator for count vectorizer + Multiple Naive Bayes flow\n",
    "t_start = timeit.default_timer()\n",
    "gs_cnb = pipe_gridsearch_cv(X = X_train, y = y_train, pipelist=pipelist_cnb ,pipe_params = pipe_params_cnb)\n",
    "t_end = timeit.default_timer()\n",
    "print(t_end - t_start)"
   ]
  },
  {
   "cell_type": "code",
   "execution_count": 35,
   "metadata": {},
   "outputs": [
    {
     "data": {
      "text/plain": [
       "0.9002985074626866"
      ]
     },
     "execution_count": 35,
     "metadata": {},
     "output_type": "execute_result"
    }
   ],
   "source": [
    "gs_cnb.best_score_"
   ]
  },
  {
   "cell_type": "code",
   "execution_count": 36,
   "metadata": {},
   "outputs": [
    {
     "data": {
      "text/plain": [
       "Pipeline(steps=[('cvec',\n",
       "                 CountVectorizer(max_df=0.9, max_features=5000, min_df=2)),\n",
       "                ('nb', MultinomialNB())])"
      ]
     },
     "execution_count": 36,
     "metadata": {},
     "output_type": "execute_result"
    }
   ],
   "source": [
    "gs_cnb.best_estimator_"
   ]
  },
  {
   "cell_type": "code",
   "execution_count": 37,
   "metadata": {},
   "outputs": [
    {
     "data": {
      "text/plain": [
       "0.9283582089552239"
      ]
     },
     "execution_count": 37,
     "metadata": {},
     "output_type": "execute_result"
    }
   ],
   "source": [
    "gs_cnb.best_estimator_.score(X_train,y_train)"
   ]
  },
  {
   "cell_type": "code",
   "execution_count": 38,
   "metadata": {},
   "outputs": [
    {
     "data": {
      "text/plain": [
       "0.9018181818181819"
      ]
     },
     "execution_count": 38,
     "metadata": {},
     "output_type": "execute_result"
    }
   ],
   "source": [
    "gs_cnb.best_estimator_.score(X_test,y_test)"
   ]
  },
  {
   "cell_type": "code",
   "execution_count": 39,
   "metadata": {},
   "outputs": [],
   "source": [
    "#Save the best model from cvec-nb flow\n",
    "joblib.dump(gs_cnb.best_estimator_, './data/gs_cnb_estimator.sav')"
   ]
  },
  {
   "cell_type": "markdown",
   "metadata": {},
   "source": [
    "#### 2. Term frequency-inverse document frequency (TF-IDF) Vectorizer and Multinomial/Guassion Naive Bayes grid search"
   ]
  },
  {
   "cell_type": "code",
   "execution_count": 166,
   "metadata": {},
   "outputs": [],
   "source": [
    "pipelist_tvec_nb = [('tvec',TfidfVectorizer()),('nb',MultinomialNB())]\n",
    "pipe_tvec_params = {\n",
    "    'tvec__max_features': [5_000, 6000,7000,8000],\n",
    "    'tvec__min_df' : [2,3],\n",
    "    'tvec__max_df' : [0.9,0.95],\n",
    "    'tvec__stop_words': [None, 'english'],\n",
    "    'tvec__ngram_range': [(1,1), (1,2)],\n",
    "    'tvec__norm' : ['l1','l2']\n",
    "}"
   ]
  },
  {
   "cell_type": "code",
   "execution_count": 167,
   "metadata": {},
   "outputs": [
    {
     "name": "stdout",
     "output_type": "stream",
     "text": [
      "132.4353986999995\n"
     ]
    }
   ],
   "source": [
    "t_start = timeit.default_timer()\n",
    "gs_tvec_nb = pipe_gridsearch_cv(X = X_train, y = y_train, pipelist = pipelist_tvec_nb, pipe_params = pipe_tvec_params)\n",
    "t_end = timeit.default_timer()\n",
    "print(t_end - t_start)"
   ]
  },
  {
   "cell_type": "code",
   "execution_count": 168,
   "metadata": {},
   "outputs": [
    {
     "data": {
      "text/plain": [
       "0.8988059701492539"
      ]
     },
     "execution_count": 168,
     "metadata": {},
     "output_type": "execute_result"
    }
   ],
   "source": [
    "gs_tvec_nb.best_score_"
   ]
  },
  {
   "cell_type": "code",
   "execution_count": 169,
   "metadata": {},
   "outputs": [
    {
     "data": {
      "text/plain": [
       "Pipeline(steps=[('tvec',\n",
       "                 TfidfVectorizer(max_df=0.9, max_features=6000, min_df=2)),\n",
       "                ('nb', MultinomialNB())])"
      ]
     },
     "execution_count": 169,
     "metadata": {},
     "output_type": "execute_result"
    }
   ],
   "source": [
    "gs_tvec_nb.best_estimator_"
   ]
  },
  {
   "cell_type": "code",
   "execution_count": 170,
   "metadata": {},
   "outputs": [
    {
     "data": {
      "text/plain": [
       "0.9375373134328359"
      ]
     },
     "execution_count": 170,
     "metadata": {},
     "output_type": "execute_result"
    }
   ],
   "source": [
    "gs_tvec_nb.best_estimator_.score(X_train, y_train)"
   ]
  },
  {
   "cell_type": "code",
   "execution_count": 171,
   "metadata": {},
   "outputs": [
    {
     "data": {
      "text/plain": [
       "0.9009090909090909"
      ]
     },
     "execution_count": 171,
     "metadata": {},
     "output_type": "execute_result"
    }
   ],
   "source": [
    "gs_tvec_nb.best_estimator_.score(X_test, y_test)"
   ]
  },
  {
   "cell_type": "markdown",
   "metadata": {},
   "source": [
    "**Summary**  \n",
    "\n",
    "  ||cvec-MNB|tvec-MNB|   \n",
    "  |---|---|---|\n",
    "  |train|0.928|0.937|\n",
    "  |test|0.902|0.900|  \n",
    "\n",
    "- cvec and tvec gave similar results with Multinomial Naive Bayes classifiers\n",
    "- The optimized paramerters were different for cvec and tvec: \n",
    "    - cvec use english stop_words, while tvec use none stop words\n",
    "    - n-gram: (1,1) vs (1,2)\n",
    "- In general, TF-IDF vectorizer should work better with Gaussian Naive Bayes, I will try it next"
   ]
  },
  {
   "cell_type": "markdown",
   "metadata": {},
   "source": [
    "##### TF-IDF Vectorizer and Gaussian NB model"
   ]
  },
  {
   "cell_type": "code",
   "execution_count": 40,
   "metadata": {},
   "outputs": [],
   "source": [
    "# Define a class for transfer sparse matrix to array\n",
    "class DenseTransformer(TransformerMixin):\n",
    "    def fit(self, X, y=None, **fit_params):\n",
    "        return self\n",
    "\n",
    "    def transform(self, X, y=None, **fit_params):\n",
    "        return X.toarray()"
   ]
  },
  {
   "cell_type": "code",
   "execution_count": 293,
   "metadata": {},
   "outputs": [],
   "source": [
    "pipelist_tvec_gnb = [('tvec',TfidfVectorizer()),(\"_\", DenseTransformer()),('nb',GaussianNB())]\n",
    "pipe_tvec_params = {\n",
    "    'tvec__max_features': [5_000, 6000,7000,8000],\n",
    "    'tvec__min_df' : [2,3],\n",
    "    'tvec__max_df' : [0.9,0.95],\n",
    "    'tvec__stop_words': [None, 'english'],\n",
    "    'tvec__ngram_range': [(1,1), (1,2)],\n",
    "    'tvec__norm' : ['l1','l2']\n",
    "}"
   ]
  },
  {
   "cell_type": "code",
   "execution_count": 294,
   "metadata": {},
   "outputs": [
    {
     "name": "stdout",
     "output_type": "stream",
     "text": [
      "1455.6972778000054\n"
     ]
    }
   ],
   "source": [
    "t_start = timeit.default_timer()\n",
    "gs_tvec_gnb = pipe_gridsearch_cv(X = X_train, y = y_train, pipelist = pipelist_tvec_gnb, pipe_params = pipe_tvec_params)\n",
    "t_end = timeit.default_timer()\n",
    "print(t_end - t_start)"
   ]
  },
  {
   "cell_type": "code",
   "execution_count": 295,
   "metadata": {},
   "outputs": [
    {
     "data": {
      "text/plain": [
       "0.8745522388059703"
      ]
     },
     "execution_count": 295,
     "metadata": {},
     "output_type": "execute_result"
    }
   ],
   "source": [
    "gs_tvec_gnb.best_score_"
   ]
  },
  {
   "cell_type": "code",
   "execution_count": 296,
   "metadata": {},
   "outputs": [
    {
     "data": {
      "text/plain": [
       "Pipeline(steps=[('tvec',\n",
       "                 TfidfVectorizer(max_df=0.9, max_features=5000, min_df=3,\n",
       "                                 ngram_range=(1, 2))),\n",
       "                ('_', <__main__.DenseTransformer object at 0x0000015ED2472688>),\n",
       "                ('nb', GaussianNB())])"
      ]
     },
     "execution_count": 296,
     "metadata": {},
     "output_type": "execute_result"
    }
   ],
   "source": [
    "gs_tvec_gnb.best_estimator_"
   ]
  },
  {
   "cell_type": "code",
   "execution_count": 297,
   "metadata": {},
   "outputs": [
    {
     "data": {
      "text/plain": [
       "0.9229850746268656"
      ]
     },
     "execution_count": 297,
     "metadata": {},
     "output_type": "execute_result"
    }
   ],
   "source": [
    "gs_tvec_gnb.best_estimator_.score(X_train,y_train)"
   ]
  },
  {
   "cell_type": "code",
   "execution_count": 298,
   "metadata": {},
   "outputs": [
    {
     "data": {
      "text/plain": [
       "0.8751515151515151"
      ]
     },
     "execution_count": 298,
     "metadata": {},
     "output_type": "execute_result"
    }
   ],
   "source": [
    "gs_tvec_gnb.best_estimator_.score(X_test,y_test)"
   ]
  },
  {
   "cell_type": "markdown",
   "metadata": {},
   "source": [
    "**Comments**   \n",
    "It seemed the Multinomial NB worked better than the Gaussian NB for this case."
   ]
  },
  {
   "cell_type": "markdown",
   "metadata": {},
   "source": [
    "#### 3. CountVectorizer and knn() grid search"
   ]
  },
  {
   "cell_type": "markdown",
   "metadata": {},
   "source": [
    "**KNN without standard scaler transform**"
   ]
  },
  {
   "cell_type": "code",
   "execution_count": 347,
   "metadata": {},
   "outputs": [],
   "source": [
    "pipelist_cknn = [('cvec',CountVectorizer()),('knn',KNeighborsClassifier())]"
   ]
  },
  {
   "cell_type": "code",
   "execution_count": 348,
   "metadata": {},
   "outputs": [
    {
     "data": {
      "text/plain": [
       "[('cvec', CountVectorizer()), ('knn', KNeighborsClassifier())]"
      ]
     },
     "execution_count": 348,
     "metadata": {},
     "output_type": "execute_result"
    }
   ],
   "source": [
    "pipelist_cknn"
   ]
  },
  {
   "cell_type": "code",
   "execution_count": 349,
   "metadata": {},
   "outputs": [],
   "source": [
    "gs_cknn = pipe_gridsearch_cv(X = X_train, y = y_train, pipelist=pipelist_cknn ,pipe_params = pipe_params_cnb)"
   ]
  },
  {
   "cell_type": "code",
   "execution_count": 350,
   "metadata": {},
   "outputs": [
    {
     "data": {
      "text/plain": [
       "0.8211194029850747"
      ]
     },
     "execution_count": 350,
     "metadata": {},
     "output_type": "execute_result"
    }
   ],
   "source": [
    "gs_cknn.best_score_"
   ]
  },
  {
   "cell_type": "code",
   "execution_count": 351,
   "metadata": {},
   "outputs": [
    {
     "data": {
      "text/plain": [
       "Pipeline(steps=[('cvec',\n",
       "                 CountVectorizer(max_df=0.9, max_features=3000, min_df=3,\n",
       "                                 ngram_range=(1, 2), stop_words='english')),\n",
       "                ('knn', KNeighborsClassifier())])"
      ]
     },
     "execution_count": 351,
     "metadata": {},
     "output_type": "execute_result"
    }
   ],
   "source": [
    "gs_cknn.best_estimator_"
   ]
  },
  {
   "cell_type": "code",
   "execution_count": 386,
   "metadata": {},
   "outputs": [
    {
     "data": {
      "text/plain": [
       "['./data/gs_cknn_estimator.sav']"
      ]
     },
     "execution_count": 386,
     "metadata": {},
     "output_type": "execute_result"
    }
   ],
   "source": [
    "#Save the best model from cvec-knn flow\n",
    "joblib.dump(gs_cknn.best_estimator_, './data/gs_cknn_estimator.sav')"
   ]
  },
  {
   "cell_type": "code",
   "execution_count": 432,
   "metadata": {},
   "outputs": [
    {
     "data": {
      "text/plain": [
       "0.8847761194029851"
      ]
     },
     "execution_count": 432,
     "metadata": {},
     "output_type": "execute_result"
    }
   ],
   "source": [
    "gs_cknn.best_estimator_.score(X_train,y_train)"
   ]
  },
  {
   "cell_type": "code",
   "execution_count": 433,
   "metadata": {},
   "outputs": [
    {
     "data": {
      "text/plain": [
       "0.828939393939394"
      ]
     },
     "execution_count": 433,
     "metadata": {},
     "output_type": "execute_result"
    }
   ],
   "source": [
    "gs_cknn.best_estimator_.score(X_test,y_test)"
   ]
  },
  {
   "cell_type": "markdown",
   "metadata": {},
   "source": [
    "**KNN with standard scaler transform**"
   ]
  },
  {
   "cell_type": "code",
   "execution_count": 370,
   "metadata": {},
   "outputs": [],
   "source": [
    "# pipelist_sc_cknn = [('cvec',CountVectorizer()),('knn',KNeighborsClassifier())]\n",
    "pipelist_sc_cknn = [('cvec',CountVectorizer()),('sc',StandardScaler(with_mean = False)),('knn',KNeighborsClassifier())]"
   ]
  },
  {
   "cell_type": "code",
   "execution_count": 374,
   "metadata": {},
   "outputs": [],
   "source": [
    "pipe_params_cknn = {\n",
    "    'cvec__max_features' : [2000,3000,4000,5000,6000],\n",
    "    'cvec__min_df' : [2,3],\n",
    "    'cvec__max_df' : [0.9,0.95],\n",
    "    'cvec__ngram_range' : [(1,1),(1,2),(2,2)],\n",
    "    'cvec__stop_words' : [None,'english']\n",
    "}"
   ]
  },
  {
   "cell_type": "code",
   "execution_count": 375,
   "metadata": {},
   "outputs": [
    {
     "name": "stdout",
     "output_type": "stream",
     "text": [
      "596.559531100007\n"
     ]
    }
   ],
   "source": [
    "t_start = timeit.default_timer()\n",
    "gs_sc_cknn = pipe_gridsearch_cv(X = X_train, y = y_train, pipelist = pipelist_sc_cknn, pipe_params = pipe_params_cknn)\n",
    "t_end = timeit.default_timer()\n",
    "print(t_end - t_start)"
   ]
  },
  {
   "cell_type": "code",
   "execution_count": 376,
   "metadata": {},
   "outputs": [
    {
     "data": {
      "text/plain": [
       "0.7972388059701492"
      ]
     },
     "execution_count": 376,
     "metadata": {},
     "output_type": "execute_result"
    }
   ],
   "source": [
    "gs_sc_cknn.best_score_"
   ]
  },
  {
   "cell_type": "code",
   "execution_count": 377,
   "metadata": {},
   "outputs": [
    {
     "data": {
      "text/plain": [
       "Pipeline(steps=[('cvec',\n",
       "                 CountVectorizer(max_df=0.9, max_features=6000, min_df=3,\n",
       "                                 ngram_range=(1, 2), stop_words='english')),\n",
       "                ('sc', StandardScaler(with_mean=False)),\n",
       "                ('knn', KNeighborsClassifier())])"
      ]
     },
     "execution_count": 377,
     "metadata": {},
     "output_type": "execute_result"
    }
   ],
   "source": [
    "gs_sc_cknn.best_estimator_"
   ]
  },
  {
   "cell_type": "code",
   "execution_count": 378,
   "metadata": {},
   "outputs": [
    {
     "data": {
      "text/plain": [
       "0.8733582089552239"
      ]
     },
     "execution_count": 378,
     "metadata": {},
     "output_type": "execute_result"
    }
   ],
   "source": [
    "gs_sc_cknn.best_estimator_.score(X_train,y_train)"
   ]
  },
  {
   "cell_type": "code",
   "execution_count": 380,
   "metadata": {},
   "outputs": [
    {
     "data": {
      "text/plain": [
       "0.7915151515151515"
      ]
     },
     "execution_count": 380,
     "metadata": {},
     "output_type": "execute_result"
    }
   ],
   "source": [
    "gs_sc_cknn.best_estimator_.score(X_test,y_test)"
   ]
  },
  {
   "cell_type": "code",
   "execution_count": 385,
   "metadata": {},
   "outputs": [
    {
     "data": {
      "text/plain": [
       "['./data/gs_sc_cknn_estimator.sav']"
      ]
     },
     "execution_count": 385,
     "metadata": {},
     "output_type": "execute_result"
    }
   ],
   "source": [
    "#Save the best model from cvec-standard scaler-knn flow\n",
    "joblib.dump(gs_sc_cknn.best_estimator_, './data/gs_sc_cknn_estimator.sav')"
   ]
  },
  {
   "cell_type": "markdown",
   "metadata": {},
   "source": [
    "**Comments**\n",
    "- KNN models didn't perform as good as Naive Bayes models\n",
    "- KNN without standard scalers seemed to be better than KNN with standard scalers for this case"
   ]
  },
  {
   "cell_type": "markdown",
   "metadata": {},
   "source": [
    "#### 4. CountVectorizer and Logistic Regression grid search"
   ]
  },
  {
   "cell_type": "code",
   "execution_count": 392,
   "metadata": {},
   "outputs": [],
   "source": [
    "pipelist_clgr = [('cvec',CountVectorizer()),('lgr',LogisticRegression(max_iter = 5000))]"
   ]
  },
  {
   "cell_type": "code",
   "execution_count": 390,
   "metadata": {},
   "outputs": [],
   "source": [
    "pipe_params_clgr = {\n",
    "    'cvec__max_features' : [2000,3000,4000,5000,6000],\n",
    "    'cvec__min_df' : [2,3],\n",
    "    'cvec__max_df' : [0.9,0.95],\n",
    "    'cvec__ngram_range' : [(1,1),(1,2),(2,2)],\n",
    "    'cvec__stop_words' : [None,'english']\n",
    "}"
   ]
  },
  {
   "cell_type": "code",
   "execution_count": 393,
   "metadata": {},
   "outputs": [
    {
     "name": "stdout",
     "output_type": "stream",
     "text": [
      "180.58468329999596\n"
     ]
    }
   ],
   "source": [
    "t_start = timeit.default_timer()\n",
    "gs_clgr = pipe_gridsearch_cv(X = X_train, y = y_train, pipelist = pipelist_clgr, pipe_params = pipe_params_clgr)\n",
    "t_end = timeit.default_timer()\n",
    "print(t_end - t_start)"
   ]
  },
  {
   "cell_type": "code",
   "execution_count": 394,
   "metadata": {},
   "outputs": [
    {
     "data": {
      "text/plain": [
       "0.8951492537313432"
      ]
     },
     "execution_count": 394,
     "metadata": {},
     "output_type": "execute_result"
    }
   ],
   "source": [
    "gs_clgr.best_score_"
   ]
  },
  {
   "cell_type": "code",
   "execution_count": 396,
   "metadata": {},
   "outputs": [
    {
     "data": {
      "text/plain": [
       "Pipeline(steps=[('cvec',\n",
       "                 CountVectorizer(max_df=0.9, max_features=6000, min_df=2,\n",
       "                                 ngram_range=(1, 2), stop_words='english')),\n",
       "                ('lgr', LogisticRegression(max_iter=5000))])"
      ]
     },
     "execution_count": 396,
     "metadata": {},
     "output_type": "execute_result"
    }
   ],
   "source": [
    "gs_clgr.best_estimator_"
   ]
  },
  {
   "cell_type": "code",
   "execution_count": 398,
   "metadata": {},
   "outputs": [
    {
     "data": {
      "text/plain": [
       "0.9541044776119403"
      ]
     },
     "execution_count": 398,
     "metadata": {},
     "output_type": "execute_result"
    }
   ],
   "source": [
    "gs_clgr.best_estimator_.score(X_train,y_train)"
   ]
  },
  {
   "cell_type": "code",
   "execution_count": 399,
   "metadata": {},
   "outputs": [
    {
     "data": {
      "text/plain": [
       "0.9018181818181819"
      ]
     },
     "execution_count": 399,
     "metadata": {},
     "output_type": "execute_result"
    }
   ],
   "source": [
    "gs_clgr.best_estimator_.score(X_test,y_test)"
   ]
  },
  {
   "cell_type": "code",
   "execution_count": 400,
   "metadata": {},
   "outputs": [
    {
     "data": {
      "text/plain": [
       "['./data/gs_clgr_estimator.sav']"
      ]
     },
     "execution_count": 400,
     "metadata": {},
     "output_type": "execute_result"
    }
   ],
   "source": [
    "#Save the best model from cvec-standard scaler-knn flow\n",
    "joblib.dump(gs_clgr.best_estimator_, './data/gs_clgr_estimator.sav')"
   ]
  },
  {
   "cell_type": "markdown",
   "metadata": {},
   "source": [
    "#### 5. Count Vectorizer and random forest model grid search"
   ]
  },
  {
   "cell_type": "code",
   "execution_count": 91,
   "metadata": {},
   "outputs": [],
   "source": [
    "pipelist_crf = [('cvec',CountVectorizer()),('rf',RandomForestClassifier())]"
   ]
  },
  {
   "cell_type": "code",
   "execution_count": 92,
   "metadata": {},
   "outputs": [],
   "source": [
    "pipe_params_crf = {\n",
    "    'cvec__max_features' : [2000,3000,4000,5000,6000],\n",
    "    'cvec__min_df' : [2,3],\n",
    "    'cvec__max_df' : [0.9,0.95],\n",
    "    'cvec__ngram_range' : [(1,1),(1,2),(2,2)],\n",
    "    'cvec__stop_words' : [None,'english']\n",
    "}"
   ]
  },
  {
   "cell_type": "code",
   "execution_count": 93,
   "metadata": {},
   "outputs": [
    {
     "name": "stdout",
     "output_type": "stream",
     "text": [
      "2632.7706462999995\n"
     ]
    }
   ],
   "source": [
    "t_start = timeit.default_timer()\n",
    "gs_crf_scan = pipe_gridsearch_cv(X = X_train, y = y_train, pipelist = pipelist_crf, pipe_params = pipe_params_crf)\n",
    "t_end = timeit.default_timer()\n",
    "print(t_end - t_start)"
   ]
  },
  {
   "cell_type": "code",
   "execution_count": 94,
   "metadata": {},
   "outputs": [
    {
     "data": {
      "text/plain": [
       "0.8852985074626865"
      ]
     },
     "execution_count": 94,
     "metadata": {},
     "output_type": "execute_result"
    }
   ],
   "source": [
    "gs_crf_scan.best_score_"
   ]
  },
  {
   "cell_type": "code",
   "execution_count": 95,
   "metadata": {},
   "outputs": [
    {
     "data": {
      "text/plain": [
       "Pipeline(steps=[('cvec',\n",
       "                 CountVectorizer(max_df=0.9, max_features=6000, min_df=2,\n",
       "                                 ngram_range=(1, 2), stop_words='english')),\n",
       "                ('rf', RandomForestClassifier())])"
      ]
     },
     "execution_count": 95,
     "metadata": {},
     "output_type": "execute_result"
    }
   ],
   "source": [
    "gs_crf_scan.best_estimator_"
   ]
  },
  {
   "cell_type": "code",
   "execution_count": 97,
   "metadata": {},
   "outputs": [
    {
     "data": {
      "text/plain": [
       "0.9871641791044776"
      ]
     },
     "execution_count": 97,
     "metadata": {},
     "output_type": "execute_result"
    }
   ],
   "source": [
    "gs_crf_scan.best_estimator_.score(X_train,y_train)"
   ]
  },
  {
   "cell_type": "code",
   "execution_count": 98,
   "metadata": {},
   "outputs": [
    {
     "data": {
      "text/plain": [
       "0.8884848484848484"
      ]
     },
     "execution_count": 98,
     "metadata": {},
     "output_type": "execute_result"
    }
   ],
   "source": [
    "gs_crf_scan.best_estimator_.score(X_test,y_test)"
   ]
  },
  {
   "cell_type": "code",
   "execution_count": 99,
   "metadata": {},
   "outputs": [
    {
     "data": {
      "text/plain": [
       "['./data/gs_crf_estimator.sav']"
      ]
     },
     "execution_count": 99,
     "metadata": {},
     "output_type": "execute_result"
    }
   ],
   "source": [
    "#Save the best model from cvec-standard random forest flow\n",
    "joblib.dump(gs_crf_scan.best_estimator_, './data/gs_crf_estimator.sav')"
   ]
  },
  {
   "cell_type": "markdown",
   "metadata": {},
   "source": [
    "#### 6. Count Vectorizer and support vector machine model grid search"
   ]
  },
  {
   "cell_type": "code",
   "execution_count": 264,
   "metadata": {},
   "outputs": [],
   "source": [
    "# Here the input was the dataframe after applying the optimized count vectorizer transform\n",
    "# X_train_cvec, X_test_cvec were created in cells below\n",
    "pipelist_sc_svc  =  [('sc',StandardScaler(with_mean = False)),('svc',SVC(probability=True))]\n",
    "pipelist_svc  =  [('svc',SVC())]"
   ]
  },
  {
   "cell_type": "code",
   "execution_count": 265,
   "metadata": {},
   "outputs": [],
   "source": [
    "params_svc = {\n",
    "    'svc__C':[3],\n",
    "    'svc__degree': [2]\n",
    "}"
   ]
  },
  {
   "cell_type": "code",
   "execution_count": 266,
   "metadata": {},
   "outputs": [
    {
     "name": "stdout",
     "output_type": "stream",
     "text": [
      "337.9834288999991\n"
     ]
    }
   ],
   "source": [
    "t_start = timeit.default_timer()\n",
    "gs_sc_svc = pipe_gridsearch_cv(X = X_train_cvec, y = y_train, pipelist = pipelist_sc_svc, pipe_params = params_svc)\n",
    "t_end = timeit.default_timer()\n",
    "print(t_end - t_start)"
   ]
  },
  {
   "cell_type": "code",
   "execution_count": 267,
   "metadata": {},
   "outputs": [
    {
     "data": {
      "text/plain": [
       "0.8428358208955224"
      ]
     },
     "execution_count": 267,
     "metadata": {},
     "output_type": "execute_result"
    }
   ],
   "source": [
    "gs_sc_svc.best_score_"
   ]
  },
  {
   "cell_type": "code",
   "execution_count": 268,
   "metadata": {},
   "outputs": [
    {
     "data": {
      "text/plain": [
       "Pipeline(steps=[('sc', StandardScaler(with_mean=False)),\n",
       "                ('svc', SVC(C=3, degree=2, probability=True))])"
      ]
     },
     "execution_count": 268,
     "metadata": {},
     "output_type": "execute_result"
    }
   ],
   "source": [
    "gs_sc_svc.best_estimator_"
   ]
  },
  {
   "cell_type": "code",
   "execution_count": 269,
   "metadata": {},
   "outputs": [
    {
     "data": {
      "text/plain": [
       "0.9701492537313433"
      ]
     },
     "execution_count": 269,
     "metadata": {},
     "output_type": "execute_result"
    }
   ],
   "source": [
    "gs_sc_svc.best_estimator_.score(X_train_cvec,y_train)"
   ]
  },
  {
   "cell_type": "code",
   "execution_count": 270,
   "metadata": {},
   "outputs": [
    {
     "data": {
      "text/plain": [
       "0.8745454545454545"
      ]
     },
     "execution_count": 270,
     "metadata": {},
     "output_type": "execute_result"
    }
   ],
   "source": [
    "gs_sc_svc.best_estimator_.score(X_test_cvec,y_test)"
   ]
  },
  {
   "cell_type": "markdown",
   "metadata": {},
   "source": [
    "**Plot the ROC curves for all the models**"
   ]
  },
  {
   "cell_type": "code",
   "execution_count": 100,
   "metadata": {},
   "outputs": [],
   "source": [
    "md_csvc = gs_sc_svc.best_estimator_\n",
    "md_cnb = joblib.load('./data/gs_cnb_estimator.sav')\n",
    "md_clgr = joblib.load('./data/gs_clgr_estimator.sav')\n",
    "md_sc_cknn = joblib.load('./data/gs_sc_cknn_estimator.sav')\n",
    "md_crf = joblib.load('./data/gs_crf_estimator.sav')"
   ]
  },
  {
   "cell_type": "code",
   "execution_count": 276,
   "metadata": {},
   "outputs": [],
   "source": [
    "models = [md_cnb,md_clgr,md_crf,md_csvc,md_cknn]\n",
    "# Define a result table as a DataFrame\n",
    "result_table = pd.DataFrame(columns=['classifiers', 'fpr','tpr','auc'])\n",
    "for md in models:\n",
    "    #model = cls.fit(X_train, y_train)\n",
    "    if md == md_csvc:\n",
    "        Xtest = X_test_cvec\n",
    "    else:\n",
    "        Xtest = X_test\n",
    "    yproba = md.predict_proba(Xtest)[::,1]\n",
    "    \n",
    "    fpr, tpr, _ = roc_curve(y_test, yproba)\n",
    "    auc = roc_auc_score(y_test, yproba)\n",
    "    \n",
    "    result_table = result_table.append({'classifiers':list(md.named_steps.keys())[1],\n",
    "                                        'fpr':fpr, \n",
    "                                        'tpr':tpr, \n",
    "                                        'auc':auc}, ignore_index=True)\n",
    "\n",
    "# Set name of the classifiers as index labels\n",
    "result_table.set_index('classifiers', inplace=True)"
   ]
  },
  {
   "cell_type": "code",
   "execution_count": 277,
   "metadata": {},
   "outputs": [
    {
     "data": {
      "text/html": [
       "<div>\n",
       "<style scoped>\n",
       "    .dataframe tbody tr th:only-of-type {\n",
       "        vertical-align: middle;\n",
       "    }\n",
       "\n",
       "    .dataframe tbody tr th {\n",
       "        vertical-align: top;\n",
       "    }\n",
       "\n",
       "    .dataframe thead th {\n",
       "        text-align: right;\n",
       "    }\n",
       "</style>\n",
       "<table border=\"1\" class=\"dataframe\">\n",
       "  <thead>\n",
       "    <tr style=\"text-align: right;\">\n",
       "      <th></th>\n",
       "      <th>fpr</th>\n",
       "      <th>tpr</th>\n",
       "      <th>auc</th>\n",
       "    </tr>\n",
       "    <tr>\n",
       "      <th>classifiers</th>\n",
       "      <th></th>\n",
       "      <th></th>\n",
       "      <th></th>\n",
       "    </tr>\n",
       "  </thead>\n",
       "  <tbody>\n",
       "    <tr>\n",
       "      <th>nb</th>\n",
       "      <td>[0.0, 0.0, 0.0, 0.0, 0.0, 0.0, 0.0, 0.0, 0.000...</td>\n",
       "      <td>[0.0, 0.00393939393939394, 0.00454545454545454...</td>\n",
       "      <td>0.974312</td>\n",
       "    </tr>\n",
       "    <tr>\n",
       "      <th>lgr</th>\n",
       "      <td>[0.0, 0.0, 0.0, 0.0, 0.0, 0.0, 0.0, 0.0, 0.0, ...</td>\n",
       "      <td>[0.0, 0.00030303030303030303, 0.02848484848484...</td>\n",
       "      <td>0.971595</td>\n",
       "    </tr>\n",
       "    <tr>\n",
       "      <th>rf</th>\n",
       "      <td>[0.0, 0.00393939393939394, 0.00393939393939394...</td>\n",
       "      <td>[0.0, 0.30757575757575756, 0.30787878787878786...</td>\n",
       "      <td>0.960937</td>\n",
       "    </tr>\n",
       "    <tr>\n",
       "      <th>svc</th>\n",
       "      <td>[0.0, 0.0, 0.0, 0.0, 0.0, 0.0, 0.0, 0.0, 0.0, ...</td>\n",
       "      <td>[0.0, 0.00030303030303030303, 0.00606060606060...</td>\n",
       "      <td>0.944161</td>\n",
       "    </tr>\n",
       "    <tr>\n",
       "      <th>knn</th>\n",
       "      <td>[0.0, 0.024242424242424242, 0.1054545454545454...</td>\n",
       "      <td>[0.0, 0.4812121212121212, 0.7181818181818181, ...</td>\n",
       "      <td>0.912703</td>\n",
       "    </tr>\n",
       "  </tbody>\n",
       "</table>\n",
       "</div>"
      ],
      "text/plain": [
       "                                                           fpr  \\\n",
       "classifiers                                                      \n",
       "nb           [0.0, 0.0, 0.0, 0.0, 0.0, 0.0, 0.0, 0.0, 0.000...   \n",
       "lgr          [0.0, 0.0, 0.0, 0.0, 0.0, 0.0, 0.0, 0.0, 0.0, ...   \n",
       "rf           [0.0, 0.00393939393939394, 0.00393939393939394...   \n",
       "svc          [0.0, 0.0, 0.0, 0.0, 0.0, 0.0, 0.0, 0.0, 0.0, ...   \n",
       "knn          [0.0, 0.024242424242424242, 0.1054545454545454...   \n",
       "\n",
       "                                                           tpr       auc  \n",
       "classifiers                                                               \n",
       "nb           [0.0, 0.00393939393939394, 0.00454545454545454...  0.974312  \n",
       "lgr          [0.0, 0.00030303030303030303, 0.02848484848484...  0.971595  \n",
       "rf           [0.0, 0.30757575757575756, 0.30787878787878786...  0.960937  \n",
       "svc          [0.0, 0.00030303030303030303, 0.00606060606060...  0.944161  \n",
       "knn          [0.0, 0.4812121212121212, 0.7181818181818181, ...  0.912703  "
      ]
     },
     "execution_count": 277,
     "metadata": {},
     "output_type": "execute_result"
    }
   ],
   "source": [
    "result_table.head()"
   ]
  },
  {
   "cell_type": "code",
   "execution_count": 278,
   "metadata": {},
   "outputs": [
    {
     "data": {
      "image/png": "[encoded data removed]",
      "text/plain": [
       "<Figure size 720x576 with 1 Axes>"
      ]
     },
     "metadata": {
      "needs_background": "light"
     },
     "output_type": "display_data"
    }
   ],
   "source": [
    "fig = plt.figure(figsize=(10,8))\n",
    "\n",
    "for i in result_table.index:\n",
    "    plt.plot(result_table.loc[i]['fpr'], \n",
    "             result_table.loc[i]['tpr'], \n",
    "             label=\"{}, AUC={:.2f}\".format(i, result_table.loc[i]['auc']))\n",
    "    \n",
    "plt.plot([0,1], [0,1], color='orange', linestyle='--')\n",
    "\n",
    "plt.xticks(np.arange(0.0, 1.1, step=0.1))\n",
    "plt.xlabel(\"Flase Positive Rate\", fontsize=18)\n",
    "\n",
    "plt.yticks(np.arange(0.0, 1.1, step=0.1))\n",
    "plt.ylabel(\"True Positive Rate\", fontsize=18)\n",
    "\n",
    "plt.title('ROC Curve Analysis', fontweight='bold', fontsize=15)\n",
    "plt.legend(prop={'size':15}, loc='lower right')\n",
    "\n",
    "plt.savefig('./image/roc_curves_allmodels.jpeg');\n"
   ]
  },
  {
   "cell_type": "markdown",
   "metadata": {},
   "source": [
    "**Models comparison summary**  \n",
    "\n",
    "\n",
    " | |cvec-MNB|cvec-knn|cvec-sc-knn|cvec-logistic-regression|cvec-randomforest|cvec-sc-svc|   \n",
    " |---|---|---|---|---|---|---|  \n",
    " |train|0.928|0.885|0.873|0.957|0.937|0.970|  \n",
    " |test|0.902|0.829|0.792|0.903|0.888|0.875|  \n",
    "\n",
    "- MNB and logistic regression models gave good scores for both training and testing datasets\n",
    "- Random forest and support vector machine models gave good scores for training datasets, but the scores for testing datasets are as good  \n",
    "- KNN model performed not as well as other models"
   ]
  },
  {
   "cell_type": "code",
   "execution_count": null,
   "metadata": {},
   "outputs": [],
   "source": []
  },
  {
   "cell_type": "markdown",
   "metadata": {},
   "source": [
    "#### 7. Dig into the datasets"
   ]
  },
  {
   "cell_type": "markdown",
   "metadata": {},
   "source": [
    "##### What are the most commmon words"
   ]
  },
  {
   "cell_type": "code",
   "execution_count": 42,
   "metadata": {},
   "outputs": [],
   "source": [
    "cvec = CountVectorizer(max_df=0.9, max_features=8000, min_df=1,\n",
    "                                 ngram_range=(1, 2), stop_words='english')\n",
    "X_train_cvec = cvec.fit_transform(X_train)\n",
    "X_test_cvec = cvec.transform(X_test)\n",
    "X_train_cvec_df = pd.DataFrame(X_train_cvec.toarray(),columns = cvec.get_feature_names())\n",
    "X_test_cvec_df = pd.DataFrame(X_test_cvec.toarray(),columns = cvec.get_feature_names())"
   ]
  },
  {
   "cell_type": "code",
   "execution_count": 43,
   "metadata": {},
   "outputs": [],
   "source": [
    "# The top 30 common words in train datasets\n",
    "most_freq = X_train_cvec_df.sum().sort_values(ascending=False).head(30)"
   ]
  },
  {
   "cell_type": "code",
   "execution_count": 44,
   "metadata": {},
   "outputs": [
    {
     "data": {
      "image/png": "[encoded data removed]",
      "text/plain": [
       "<Figure size 864x576 with 1 Axes>"
      ]
     },
     "metadata": {
      "needs_background": "light"
     },
     "output_type": "display_data"
    }
   ],
   "source": [
    "plt.figure(figsize = (12,8))\n",
    "most_freq.plot.barh(width = 0.7,color = cm.jet(np.linspace(0,1)))\n",
    "plt.xticks(fontsize = 14)\n",
    "plt.yticks(rotation = 10,fontsize = 14)\n",
    "plt.xlabel('Number of Occurance', fontsize = 16)\n",
    "plt.ylabel('Most Common Words', fontsize = 16)\n",
    "plt.title(\"Top 30 Most Common words in the Train Dataset\", fontsize = 20)\n",
    "plt.savefig('./image/Top30words_train.jpeg');"
   ]
  },
  {
   "cell_type": "code",
   "execution_count": 45,
   "metadata": {},
   "outputs": [],
   "source": [
    "# The top 30 common words in testing datasets\n",
    "test_most_freq = X_test_cvec_df.sum().sort_values(ascending=False).head(30)"
   ]
  },
  {
   "cell_type": "code",
   "execution_count": 46,
   "metadata": {},
   "outputs": [
    {
     "data": {
      "image/png": "[encoded data removed]",
      "text/plain": [
       "<Figure size 864x576 with 1 Axes>"
      ]
     },
     "metadata": {
      "needs_background": "light"
     },
     "output_type": "display_data"
    }
   ],
   "source": [
    "plt.figure(figsize = (12,8))\n",
    "test_most_freq.plot.barh(width = 0.7,color = cm.jet(np.linspace(0,1)))\n",
    "plt.xticks(fontsize = 14)\n",
    "plt.yticks(rotation = 10,fontsize = 14)\n",
    "plt.xlabel('Number of Occurance', fontsize = 16)\n",
    "plt.ylabel('Most Common Words', fontsize = 16)\n",
    "plt.title(\"Top 30 Most Common words in the Test Dataset\", fontsize = 20)\n",
    "plt.savefig('./image/Top30words_test.jpeg');"
   ]
  },
  {
   "cell_type": "markdown",
   "metadata": {},
   "source": [
    "**Comments** \n",
    "- The top 30 most common used words were pretty similar in the training and testing datasets\n",
    "- Only two words were different: training datasets had \"fan\" and \"got\", testing datasets had \"iron man\" and \"jedi\""
   ]
  },
  {
   "cell_type": "markdown",
   "metadata": {},
   "source": [
    "#### 8. Search for the optimized paramerters for logistic regression models"
   ]
  },
  {
   "cell_type": "code",
   "execution_count": 207,
   "metadata": {},
   "outputs": [],
   "source": [
    "# Note, not all the searched parameters were listed below.\n",
    "pipelist_clr_scan = [('cvec',CountVectorizer(stop_words='english',max_features=8000)),('lr',LogisticRegression(max_iter = 5000))]\n",
    "pipe_params_clr_scan = {\n",
    "    'cvec__max_features' : [7000,8000,9000,12000],\n",
    "    'cvec__min_df' : [1,2,3], # min_df = 1 is the best, thought the impact is small\n",
    "    'cvec__max_df' : [0.3,0.4,0.5,0.6,0.7,0.8,0.9], # all max_df gave same results\n",
    "    'cvec__ngram_range' : [(1,2)],\n",
    "    'lr__penalty' : ['l1','l2'],\n",
    "    'lr__C' : [1,1.2,1.5,2],\n",
    "    'lr__solver' : ['liblinear']\n",
    "}"
   ]
  },
  {
   "cell_type": "code",
   "execution_count": 47,
   "metadata": {},
   "outputs": [],
   "source": [
    "t_start = timeit.default_timer()\n",
    "gs_clr_scan = pipe_gridsearch_cv(X = X_train, y = y_train, pipelist = pipelist_clr_scan, pipe_params = pipe_params_clr_scan)\n",
    "t_end = timeit.default_timer()\n",
    "print(t_end - t_start)"
   ]
  },
  {
   "cell_type": "code",
   "execution_count": 205,
   "metadata": {},
   "outputs": [
    {
     "data": {
      "text/plain": [
       "0.8962686567164179"
      ]
     },
     "execution_count": 205,
     "metadata": {},
     "output_type": "execute_result"
    }
   ],
   "source": [
    "gs_clr_scan.best_score_"
   ]
  },
  {
   "cell_type": "code",
   "execution_count": 279,
   "metadata": {},
   "outputs": [
    {
     "data": {
      "text/plain": [
       "Pipeline(steps=[('cvec',\n",
       "                 CountVectorizer(max_features=8000, ngram_range=(1, 2),\n",
       "                                 stop_words='english')),\n",
       "                ('lr',\n",
       "                 LogisticRegression(C=1.2, max_iter=5000, solver='liblinear'))])"
      ]
     },
     "execution_count": 279,
     "metadata": {},
     "output_type": "execute_result"
    }
   ],
   "source": [
    "gs_clr_scan.best_estimator_"
   ]
  },
  {
   "cell_type": "code",
   "execution_count": 403,
   "metadata": {},
   "outputs": [
    {
     "data": {
      "text/plain": [
       "{'cvec': CountVectorizer(max_features=8000, ngram_range=(1, 2), stop_words='english'),\n",
       " 'lr': LogisticRegression(C=1.2, max_iter=5000, solver='liblinear')}"
      ]
     },
     "execution_count": 403,
     "metadata": {},
     "output_type": "execute_result"
    }
   ],
   "source": [
    "gs_clr_scan.best_estimator_.named_steps"
   ]
  },
  {
   "cell_type": "code",
   "execution_count": 194,
   "metadata": {},
   "outputs": [
    {
     "data": {
      "text/plain": [
       "0.9608955223880598"
      ]
     },
     "execution_count": 194,
     "metadata": {},
     "output_type": "execute_result"
    }
   ],
   "source": [
    "gs_clr_scan.best_estimator_.score(X_train,y_train)"
   ]
  },
  {
   "cell_type": "code",
   "execution_count": 195,
   "metadata": {},
   "outputs": [
    {
     "data": {
      "text/plain": [
       "0.9025757575757576"
      ]
     },
     "execution_count": 195,
     "metadata": {},
     "output_type": "execute_result"
    }
   ],
   "source": [
    "gs_clr_scan.best_estimator_.score(X_test,y_test)"
   ]
  },
  {
   "cell_type": "code",
   "execution_count": 280,
   "metadata": {},
   "outputs": [],
   "source": [
    "logreg = gs_clr_scan.best_estimator_"
   ]
  },
  {
   "cell_type": "markdown",
   "metadata": {},
   "source": [
    "**Creating the confusion matrix for the best estimator**"
   ]
  },
  {
   "cell_type": "code",
   "execution_count": 281,
   "metadata": {},
   "outputs": [
    {
     "name": "stdout",
     "output_type": "stream",
     "text": [
      "[[2842  458]\n",
      " [ 185 3115]]\n"
     ]
    }
   ],
   "source": [
    "preds = logreg.predict(X_test)\n",
    "print(confusion_matrix(y_test,preds))"
   ]
  },
  {
   "cell_type": "code",
   "execution_count": 282,
   "metadata": {},
   "outputs": [],
   "source": [
    "tn,fp,fn,tp = confusion_matrix(y_test,preds).ravel()"
   ]
  },
  {
   "cell_type": "code",
   "execution_count": 283,
   "metadata": {},
   "outputs": [
    {
     "data": {
      "image/png": "[encoded data removed]",
      "text/plain": [
       "<Figure size 432x288 with 2 Axes>"
      ]
     },
     "metadata": {
      "needs_background": "light"
     },
     "output_type": "display_data"
    }
   ],
   "source": [
    "plot_confusion_matrix(logreg,\n",
    "                      X_test,\n",
    "                      y_test,\n",
    "                      display_labels=['Marvelstudios','StarWars'],\n",
    "                      cmap='PuBu', \n",
    "                      values_format='d')\n",
    "plt.savefig('./image/confusion_matrix_lr.jpeg');"
   ]
  },
  {
   "cell_type": "code",
   "execution_count": 284,
   "metadata": {},
   "outputs": [
    {
     "name": "stdout",
     "output_type": "stream",
     "text": [
      "Sensitivity: 0.9439\n",
      "Specificity: 0.8612\n"
     ]
    }
   ],
   "source": [
    "spec = tn / (tn + fp)\n",
    "sens = tp / (tp + fn)\n",
    "print(f'Sensitivity: {round(sens,4)}')\n",
    "print(f'Specificity: {round(spec,4)}')"
   ]
  },
  {
   "cell_type": "markdown",
   "metadata": {},
   "source": [
    "**Observations:**  \n",
    "- Sensitivity is better than specivicity which means the model has higher accuracy on predicting posts in StarWars than in marvelstudios\n",
    "- There might be some words commonly used in starwars were also commonly used in marvelstodios"
   ]
  },
  {
   "cell_type": "markdown",
   "metadata": {},
   "source": [
    "##### Checking the large coefficients in the Logistic Regression model"
   ]
  },
  {
   "cell_type": "code",
   "execution_count": null,
   "metadata": {},
   "outputs": [],
   "source": [
    "# refit the model with the best parameters and vectorzied X_train and y_train"
   ]
  },
  {
   "cell_type": "code",
   "execution_count": 48,
   "metadata": {},
   "outputs": [],
   "source": [
    "lr = LogisticRegression(C=1.2,max_iter=5000,solver='liblinear')"
   ]
  },
  {
   "cell_type": "code",
   "execution_count": 49,
   "metadata": {},
   "outputs": [
    {
     "data": {
      "text/plain": [
       "LogisticRegression(C=1.2, max_iter=5000, solver='liblinear')"
      ]
     },
     "execution_count": 49,
     "metadata": {},
     "output_type": "execute_result"
    }
   ],
   "source": [
    "lr.fit(X_train_cvec,y_train)"
   ]
  },
  {
   "cell_type": "code",
   "execution_count": 50,
   "metadata": {},
   "outputs": [
    {
     "data": {
      "text/plain": [
       "0.9608955223880598"
      ]
     },
     "execution_count": 50,
     "metadata": {},
     "output_type": "execute_result"
    }
   ],
   "source": [
    "lr.score(X_train_cvec,y_train)"
   ]
  },
  {
   "cell_type": "code",
   "execution_count": 14,
   "metadata": {},
   "outputs": [
    {
     "data": {
      "text/plain": [
       "0.9030303030303031"
      ]
     },
     "execution_count": 14,
     "metadata": {},
     "output_type": "execute_result"
    }
   ],
   "source": [
    "lr.score(X_test_cvec,y_test)"
   ]
  },
  {
   "cell_type": "code",
   "execution_count": 15,
   "metadata": {},
   "outputs": [],
   "source": [
    "coef_starwarts = pd.DataFrame(lr.coef_,columns=X_train_cvec_df.columns,index = ['coef']).T['coef'].sort_values(ascending=False).head(15)"
   ]
  },
  {
   "cell_type": "code",
   "execution_count": 16,
   "metadata": {},
   "outputs": [],
   "source": [
    "coef_marvel = pd.DataFrame(lr.coef_,columns=X_train_cvec_df.columns,index = ['coef']).T['coef'].sort_values(ascending=False).tail(15).sort_values()"
   ]
  },
  {
   "cell_type": "code",
   "execution_count": 160,
   "metadata": {},
   "outputs": [
    {
     "data": {
      "image/png": "[encoded data removed]",
      "text/plain": [
       "<Figure size 864x576 with 1 Axes>"
      ]
     },
     "metadata": {
      "needs_background": "light"
     },
     "output_type": "display_data"
    }
   ],
   "source": [
    "plt.figure(figsize = (12,8))\n",
    "coef_starwarts.plot.bar(width = 0.6,color = cm.winter(np.linspace(0,0.5)),label = 'Coefficient Values')\n",
    "plt.yticks(fontsize = 12)\n",
    "plt.xticks(rotation = 45,fontsize = 12)\n",
    "plt.ylabel('Coefficient Values', fontsize = 16)\n",
    "plt.xlabel('Feature Words', fontsize = 16)\n",
    "plt.title(\"Top 15 Positive Coefficients of Logistic Regression Model \", fontsize = 20)\n",
    "plt.legend(fontsize = 16)\n",
    "plt.savefig('./image/Top15_positive_coef.jpeg');"
   ]
  },
  {
   "cell_type": "code",
   "execution_count": 161,
   "metadata": {},
   "outputs": [
    {
     "data": {
      "image/png": "[encoded data removed]",
      "text/plain": [
       "<Figure size 864x576 with 1 Axes>"
      ]
     },
     "metadata": {
      "needs_background": "light"
     },
     "output_type": "display_data"
    }
   ],
   "source": [
    "plt.figure(figsize = (12,8))\n",
    "coef_marvel.plot.bar(width = 0.6,color = cm.winter(np.linspace(0.5,1)),label = 'Coefficient Values')\n",
    "plt.yticks(fontsize = 12)\n",
    "plt.xticks(rotation = 45,fontsize = 12)\n",
    "plt.ylabel('Coefficient Values', fontsize = 16)\n",
    "plt.xlabel('Feature Words', fontsize = 16)\n",
    "plt.title(\"Top 15 Negative Coefficients of Logistic Regression Model \", fontsize = 20)\n",
    "plt.legend(fontsize = 16)\n",
    "plt.savefig('./image/Top15_negative_coef.jpeg');"
   ]
  },
  {
   "cell_type": "markdown",
   "metadata": {},
   "source": [
    "##### How about removing the top 15 driving words?"
   ]
  },
  {
   "cell_type": "code",
   "execution_count": 303,
   "metadata": {},
   "outputs": [
    {
     "data": {
      "text/plain": [
       "Index(['mcu', 'marvel', 'avengers', 'endgame', 'thor', 'thanos', 'hulk',\n",
       "       'loki', 'spiderman', 'wandavision', 'cap', 'wolverine', 'venom',\n",
       "       'infinity', 'stark'],\n",
       "      dtype='object')"
      ]
     },
     "execution_count": 303,
     "metadata": {},
     "output_type": "execute_result"
    }
   ],
   "source": [
    "coef_marvel.index"
   ]
  },
  {
   "cell_type": "code",
   "execution_count": 300,
   "metadata": {},
   "outputs": [
    {
     "data": {
      "text/plain": [
       "Index(['jedi', 'mandalorian', 'lightsaber', 'vader', 'clone', 'yoda', 'rey',\n",
       "       'sequels', 'anakin', 'sith', 'starwars', 'imperial', 'ahsoka', 'sw',\n",
       "       'skywalker'],\n",
       "      dtype='object')"
      ]
     },
     "execution_count": 300,
     "metadata": {},
     "output_type": "execute_result"
    }
   ],
   "source": [
    "coef_starwarts.index"
   ]
  },
  {
   "cell_type": "code",
   "execution_count": 324,
   "metadata": {},
   "outputs": [],
   "source": [
    "stop_star = (list(coef_starwarts.index)) + list(CountVectorizer(stop_words = 'english').get_stop_words())"
   ]
  },
  {
   "cell_type": "code",
   "execution_count": 325,
   "metadata": {},
   "outputs": [],
   "source": [
    "stop_marvel = (list(coef_marvel.index)) + list(CountVectorizer(stop_words = 'english').get_stop_words())"
   ]
  },
  {
   "cell_type": "markdown",
   "metadata": {},
   "source": [
    "##### 3 cases were tested:\n",
    "- Removing the words of the top 15 positive coefficients\n",
    "- Removing the words of the top 15 negative coefficients\n",
    "- Removing the words of the both top 15 positive and negative coefficients"
   ]
  },
  {
   "cell_type": "code",
   "execution_count": 334,
   "metadata": {},
   "outputs": [],
   "source": [
    "pipelist_clr_stopstar = [('cvec',CountVectorizer(stop_words=stop_star,max_features=8000)),('lr',LogisticRegression(max_iter = 5000))]\n",
    "pipelist_clr_stopmarvel = [('cvec',CountVectorizer(stop_words=stop_marvel,max_features=8000)),('lr',LogisticRegression(max_iter = 5000))]\n",
    "pipelist_clr_stopboth = [('cvec',CountVectorizer(stop_words=stop_marvel+stop_star,max_features=8000)),('lr',LogisticRegression(max_iter = 5000))]\n",
    "pipe_params_clr_stop = {\n",
    "#    'cvec__max_features' : [7000,8000,9000,12000],\n",
    "#    'cvec__min_df' : [1,2,3], # min_df = 1 is the best, thought the impact is small\n",
    "#    'cvec__max_df' : [0.3,0.4,0.5,0.6,0.7,0.8,0.9], # all max_df gave same results\n",
    "    'cvec__ngram_range' : [(1,2)],\n",
    "#    'lr__penalty' : ['l1','l2'],\n",
    "    'lr__C' : [1.2],\n",
    "    'lr__solver' : ['liblinear']\n",
    "}"
   ]
  },
  {
   "cell_type": "code",
   "execution_count": 329,
   "metadata": {},
   "outputs": [
    {
     "name": "stdout",
     "output_type": "stream",
     "text": [
      "4.213978300016606\n"
     ]
    }
   ],
   "source": [
    "t_start = timeit.default_timer()\n",
    "gs_clr_stopstar = pipe_gridsearch_cv(X = X_train, y = y_train, pipelist = pipelist_clr_stopstar, pipe_params = pipe_params_clr_stop)\n",
    "gs_clr_stopmarvel = pipe_gridsearch_cv(X = X_train, y = y_train, pipelist = pipelist_clr_stopmarvel, pipe_params = pipe_params_clr_stop)\n",
    "t_end = timeit.default_timer()\n",
    "print(t_end - t_start)"
   ]
  },
  {
   "cell_type": "code",
   "execution_count": 330,
   "metadata": {},
   "outputs": [
    {
     "data": {
      "text/plain": [
       "0.8892537313432836"
      ]
     },
     "execution_count": 330,
     "metadata": {},
     "output_type": "execute_result"
    }
   ],
   "source": [
    "gs_clr_stopstar.best_score_"
   ]
  },
  {
   "cell_type": "code",
   "execution_count": 331,
   "metadata": {},
   "outputs": [
    {
     "data": {
      "text/plain": [
       "0.8591791044776119"
      ]
     },
     "execution_count": 331,
     "metadata": {},
     "output_type": "execute_result"
    }
   ],
   "source": [
    "gs_clr_stopmarvel.best_score_"
   ]
  },
  {
   "cell_type": "code",
   "execution_count": 332,
   "metadata": {},
   "outputs": [
    {
     "name": "stdout",
     "output_type": "stream",
     "text": [
      "0.9541791044776119\n",
      "0.8953030303030303\n"
     ]
    }
   ],
   "source": [
    "print(gs_clr_stopstar.best_estimator_.score(X_train,y_train))\n",
    "print(gs_clr_stopstar.best_estimator_.score(X_test,y_test))"
   ]
  },
  {
   "cell_type": "code",
   "execution_count": 333,
   "metadata": {},
   "outputs": [
    {
     "name": "stdout",
     "output_type": "stream",
     "text": [
      "0.9455970149253732\n",
      "0.8666666666666667\n"
     ]
    }
   ],
   "source": [
    "print(gs_clr_stopmarvel.best_estimator_.score(X_train,y_train))\n",
    "print(gs_clr_stopmarvel.best_estimator_.score(X_test,y_test))"
   ]
  },
  {
   "cell_type": "code",
   "execution_count": 335,
   "metadata": {},
   "outputs": [
    {
     "name": "stdout",
     "output_type": "stream",
     "text": [
      "1.9553128999832552\n"
     ]
    }
   ],
   "source": [
    "t_start = timeit.default_timer()\n",
    "gs_clr_stopboth = pipe_gridsearch_cv(X = X_train, y = y_train, pipelist = pipelist_clr_stopboth, pipe_params = pipe_params_clr_stop)\n",
    "t_end = timeit.default_timer()\n",
    "print(t_end - t_start)"
   ]
  },
  {
   "cell_type": "code",
   "execution_count": 336,
   "metadata": {},
   "outputs": [
    {
     "data": {
      "text/plain": [
       "0.839402985074627"
      ]
     },
     "execution_count": 336,
     "metadata": {},
     "output_type": "execute_result"
    }
   ],
   "source": [
    "gs_clr_stopboth.best_score_"
   ]
  },
  {
   "cell_type": "code",
   "execution_count": 337,
   "metadata": {},
   "outputs": [
    {
     "name": "stdout",
     "output_type": "stream",
     "text": [
      "0.9365671641791045\n",
      "0.8537878787878788\n"
     ]
    }
   ],
   "source": [
    "print(gs_clr_stopboth.best_estimator_.score(X_train,y_train))\n",
    "print(gs_clr_stopboth.best_estimator_.score(X_test,y_test))"
   ]
  },
  {
   "cell_type": "code",
   "execution_count": 338,
   "metadata": {},
   "outputs": [
    {
     "name": "stdout",
     "output_type": "stream",
     "text": [
      "[[2737  563]\n",
      " [ 402 2898]]\n"
     ]
    }
   ],
   "source": [
    "print(confusion_matrix(y_test,gs_clr_stopboth.best_estimator_.predict(X_test)))"
   ]
  },
  {
   "cell_type": "code",
   "execution_count": 339,
   "metadata": {},
   "outputs": [],
   "source": [
    "tn,fp,fn,tp = confusion_matrix(y_test,gs_clr_stopboth.best_estimator_.predict(X_test)).ravel()"
   ]
  },
  {
   "cell_type": "code",
   "execution_count": 340,
   "metadata": {},
   "outputs": [
    {
     "name": "stdout",
     "output_type": "stream",
     "text": [
      "Sensitivity: 0.8782\n",
      "Specificity: 0.8294\n"
     ]
    }
   ],
   "source": [
    "spec = tn / (tn + fp)\n",
    "sens = tp / (tp + fn)\n",
    "print(f'Sensitivity: {round(sens,4)}')\n",
    "print(f'Specificity: {round(spec,4)}')"
   ]
  },
  {
   "cell_type": "markdown",
   "metadata": {},
   "source": [
    "**Comments**  \n",
    "Removing the words with top positive or negative coeficients would reduce the logistic regression model's performance:\n",
    "- lower accuracy\n",
    "- lower sensitivity\n",
    "- lower specificity"
   ]
  },
  {
   "cell_type": "markdown",
   "metadata": {},
   "source": [
    "#### 10. How to reduce the overfitting of the Logistic Regression model?\n",
    "##### A. Bagging logistic regression models"
   ]
  },
  {
   "cell_type": "code",
   "execution_count": 210,
   "metadata": {},
   "outputs": [
    {
     "data": {
      "text/plain": [
       "0.9016666666666666"
      ]
     },
     "execution_count": 210,
     "metadata": {},
     "output_type": "execute_result"
    }
   ],
   "source": [
    "# Bag 10 logistic regressions \n",
    "from sklearn.linear_model import LogisticRegression\n",
    "lgr = LogisticRegression(C=1.2,max_iter=5000,solver='liblinear',)\n",
    "baglog = BaggingClassifier(random_state=42, base_estimator=lgr,n_estimators = 100)\n",
    "# Fit BaggingClassifier.\n",
    "baglog.fit(X_train_cvec, y_train)\n",
    "# Score BaggingClassifier.\n",
    "baglog.score(X_test_cvec, y_test)"
   ]
  },
  {
   "cell_type": "code",
   "execution_count": 211,
   "metadata": {},
   "outputs": [
    {
     "data": {
      "text/plain": [
       "0.9016666666666666"
      ]
     },
     "execution_count": 211,
     "metadata": {},
     "output_type": "execute_result"
    }
   ],
   "source": [
    "baglog.score(X_test_cvec,y_test)"
   ]
  },
  {
   "cell_type": "code",
   "execution_count": 342,
   "metadata": {},
   "outputs": [
    {
     "data": {
      "text/plain": [
       "0.9539552238805971"
      ]
     },
     "execution_count": 342,
     "metadata": {},
     "output_type": "execute_result"
    }
   ],
   "source": [
    "baglog.score(X_train_cvec,y_train)"
   ]
  },
  {
   "cell_type": "code",
   "execution_count": 212,
   "metadata": {},
   "outputs": [
    {
     "data": {
      "text/plain": [
       "0.9025757575757576"
      ]
     },
     "execution_count": 212,
     "metadata": {},
     "output_type": "execute_result"
    }
   ],
   "source": [
    "gs_clr_scan.best_estimator_.score(X_test,y_test)"
   ]
  },
  {
   "cell_type": "markdown",
   "metadata": {},
   "source": [
    "**Comments**  \n",
    "Bagging logistic regression models seemed not to have imporvements on the overfitting of the logistic models."
   ]
  },
  {
   "cell_type": "markdown",
   "metadata": {},
   "source": [
    "##### B. Reducing the max features in the count vectorizer"
   ]
  },
  {
   "cell_type": "code",
   "execution_count": 375,
   "metadata": {},
   "outputs": [],
   "source": [
    "pipelist_clr_maxfeature = [('cvec',CountVectorizer(stop_words='english')),('lr',LogisticRegression(max_iter = 5000))]\n",
    "scores = []\n",
    "for max_feature in np.linspace(200,8000,40):\n",
    "    pipe_params_clr_maxfeature = {\n",
    "    'cvec__max_features' : [int(max_feature)],\n",
    "    'cvec__ngram_range' : [(1,2)],\n",
    "    'lr__C' : [1.2],\n",
    "    'lr__solver' : ['liblinear']\n",
    "    }\n",
    "    gs = pipe_gridsearch_cv(X = X_train, y = y_train, pipelist = pipelist_clr_maxfeature, pipe_params = pipe_params_clr_maxfeature)\n",
    "    train_score = gs.best_estimator_.score(X_train,y_train)\n",
    "    test_score = gs.best_estimator_.score(X_test,y_test)\n",
    "    scores.append({ 'max_feature': int(max_feature),\n",
    "                    'cv_score': gs.best_score_,\n",
    "                    'train' : train_score,\n",
    "                    'test' : test_score\n",
    "                  })"
   ]
  },
  {
   "cell_type": "code",
   "execution_count": 402,
   "metadata": {},
   "outputs": [
    {
     "data": {
      "text/html": [
       "<div>\n",
       "<style scoped>\n",
       "    .dataframe tbody tr th:only-of-type {\n",
       "        vertical-align: middle;\n",
       "    }\n",
       "\n",
       "    .dataframe tbody tr th {\n",
       "        vertical-align: top;\n",
       "    }\n",
       "\n",
       "    .dataframe thead th {\n",
       "        text-align: right;\n",
       "    }\n",
       "</style>\n",
       "<table border=\"1\" class=\"dataframe\">\n",
       "  <thead>\n",
       "    <tr style=\"text-align: right;\">\n",
       "      <th></th>\n",
       "      <th>cv_score</th>\n",
       "      <th>train</th>\n",
       "      <th>test</th>\n",
       "    </tr>\n",
       "    <tr>\n",
       "      <th>max_feature</th>\n",
       "      <th></th>\n",
       "      <th></th>\n",
       "      <th></th>\n",
       "    </tr>\n",
       "  </thead>\n",
       "  <tbody>\n",
       "    <tr>\n",
       "      <th>200</th>\n",
       "      <td>0.818358</td>\n",
       "      <td>0.827164</td>\n",
       "      <td>0.826818</td>\n",
       "    </tr>\n",
       "    <tr>\n",
       "      <th>400</th>\n",
       "      <td>0.850746</td>\n",
       "      <td>0.866493</td>\n",
       "      <td>0.856515</td>\n",
       "    </tr>\n",
       "  </tbody>\n",
       "</table>\n",
       "</div>"
      ],
      "text/plain": [
       "             cv_score     train      test\n",
       "max_feature                              \n",
       "200          0.818358  0.827164  0.826818\n",
       "400          0.850746  0.866493  0.856515"
      ]
     },
     "execution_count": 402,
     "metadata": {},
     "output_type": "execute_result"
    }
   ],
   "source": [
    "scores_df = pd.DataFrame(scores)\n",
    "scores_df.set_index('max_feature',inplace=True)\n",
    "scores_df.head(2)"
   ]
  },
  {
   "cell_type": "code",
   "execution_count": 398,
   "metadata": {},
   "outputs": [
    {
     "data": {
      "image/png": "[encoded data removed]",
      "text/plain": [
       "<Figure size 864x720 with 1 Axes>"
      ]
     },
     "metadata": {
      "needs_background": "light"
     },
     "output_type": "display_data"
    }
   ],
   "source": [
    "plt.figure(figsize = (12,10))\n",
    "plt.plot(scores_df['train'],'-*',label = 'train',markersize = 8)\n",
    "plt.plot(scores_df['test'],'-o',label = 'test',markersize = 8)\n",
    "plt.plot(scores_df['cv_score'],'-^',label = 'cross validation',markersize = 8)\n",
    "plt.xlim(0,9000)\n",
    "plt.ylim(0.8,1)\n",
    "plt.xlabel(\"Maximum number of features\",fontsize = 16)\n",
    "plt.ylabel(\"Accurancy\",fontsize = 16)\n",
    "plt.xticks(fontsize = 14)\n",
    "plt.yticks(fontsize = 14)\n",
    "plt.hlines(0.9,0,40000,linestyle = 'dotted')\n",
    "plt.legend(fontsize = 20,loc = 'lower right')\n",
    "plt.savefig('./image/lgr_scores_maxfeatures.jpeg');"
   ]
  },
  {
   "cell_type": "markdown",
   "metadata": {},
   "source": [
    "**Comments**\n",
    "- When the number of features in Count vectorizers was small (i.e. < 1000), the logistic regression models seemed not to be overfitted, but the overall scores were not good either.  \n",
    "- As the number of features increased, both the training and test datasets were fitted better. The scores of the training datasets growed faster than the testing datasets, which indicated overfitting of the model.\n",
    "- The testing scores were pretty consistent with the cross-validation scores."
   ]
  }
 ],
 "metadata": {
  "kernelspec": {
   "display_name": "Python 3",
   "language": "python",
   "name": "python3"
  },
  "language_info": {
   "codemirror_mode": {
    "name": "ipython",
    "version": 3
   },
   "file_extension": ".py",
   "mimetype": "text/x-python",
   "name": "python",
   "nbconvert_exporter": "python",
   "pygments_lexer": "ipython3",
   "version": "3.7.7"
  }
 },
 "nbformat": 4,
 "nbformat_minor": 4
}
