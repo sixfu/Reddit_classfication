{
 "cells": [
  {
   "cell_type": "code",
   "execution_count": 1,
   "metadata": {},
   "outputs": [],
   "source": [
    "# imports\n",
    "import numpy as np\n",
    "import pandas as pd\n",
    "import matplotlib.pyplot as plt\n",
    "from matplotlib import cm\n",
    "from sklearn.model_selection import train_test_split, GridSearchCV,cross_val_score\n",
    "from sklearn.pipeline import Pipeline\n",
    "from sklearn.linear_model import LogisticRegression\n",
    "from sklearn.naive_bayes import MultinomialNB, GaussianNB\n",
    "# Import CountVectorizer and TFIDFVectorizer from feature_extraction.text.\n",
    "from sklearn.feature_extraction.text import CountVectorizer, TfidfVectorizer\n",
    "# Import Bagging Classifier.\n",
    "import timeit\n",
    "pd.set_option('display.max_rows',None)"
   ]
  },
  {
   "cell_type": "code",
   "execution_count": 4,
   "metadata": {},
   "outputs": [],
   "source": [
    "starwars_df = pd.read_csv('./data/starwar_0820.csv')\n",
    "marvel_df = pd.read_csv('./data/marvel_0820.csv')"
   ]
  },
  {
   "cell_type": "code",
   "execution_count": 5,
   "metadata": {},
   "outputs": [
    {
     "data": {
      "text/plain": [
       "StarWars    20000\n",
       "Name: subreddit, dtype: int64"
      ]
     },
     "execution_count": 5,
     "metadata": {},
     "output_type": "execute_result"
    }
   ],
   "source": [
    "starwars_df['subreddit'].value_counts()"
   ]
  },
  {
   "cell_type": "code",
   "execution_count": 6,
   "metadata": {},
   "outputs": [
    {
     "data": {
      "text/plain": [
       "marvelstudios    20000\n",
       "Name: subreddit, dtype: int64"
      ]
     },
     "execution_count": 6,
     "metadata": {},
     "output_type": "execute_result"
    }
   ],
   "source": [
    "marvel_df['subreddit'].value_counts()"
   ]
  },
  {
   "cell_type": "code",
   "execution_count": 7,
   "metadata": {},
   "outputs": [
    {
     "name": "stdout",
     "output_type": "stream",
     "text": [
      "(20000, 87)\n",
      "(20000, 84)\n"
     ]
    }
   ],
   "source": [
    "print(starwars_df.shape)\n",
    "print(marvel_df.shape)"
   ]
  },
  {
   "cell_type": "code",
   "execution_count": 9,
   "metadata": {},
   "outputs": [
    {
     "data": {
      "text/html": [
       "<div>\n",
       "<style scoped>\n",
       "    .dataframe tbody tr th:only-of-type {\n",
       "        vertical-align: middle;\n",
       "    }\n",
       "\n",
       "    .dataframe tbody tr th {\n",
       "        vertical-align: top;\n",
       "    }\n",
       "\n",
       "    .dataframe thead th {\n",
       "        text-align: right;\n",
       "    }\n",
       "</style>\n",
       "<table border=\"1\" class=\"dataframe\">\n",
       "  <thead>\n",
       "    <tr style=\"text-align: right;\">\n",
       "      <th></th>\n",
       "      <th>0</th>\n",
       "      <th>1</th>\n",
       "    </tr>\n",
       "  </thead>\n",
       "  <tbody>\n",
       "    <tr>\n",
       "      <th>Unnamed: 0</th>\n",
       "      <td>0</td>\n",
       "      <td>1</td>\n",
       "    </tr>\n",
       "    <tr>\n",
       "      <th>all_awardings</th>\n",
       "      <td>[]</td>\n",
       "      <td>[]</td>\n",
       "    </tr>\n",
       "    <tr>\n",
       "      <th>allow_live_comments</th>\n",
       "      <td>False</td>\n",
       "      <td>False</td>\n",
       "    </tr>\n",
       "    <tr>\n",
       "      <th>author</th>\n",
       "      <td>ReverendPalpatine</td>\n",
       "      <td>LifeAccordingToLevi</td>\n",
       "    </tr>\n",
       "    <tr>\n",
       "      <th>author_flair_css_class</th>\n",
       "      <td>2-13 bigFlair</td>\n",
       "      <td>7-14 bigFlair</td>\n",
       "    </tr>\n",
       "    <tr>\n",
       "      <th>author_flair_richtext</th>\n",
       "      <td>[]</td>\n",
       "      <td>[]</td>\n",
       "    </tr>\n",
       "    <tr>\n",
       "      <th>author_flair_template_id</th>\n",
       "      <td>887385a0-77ee-11e9-8a98-0e4259a38b44</td>\n",
       "      <td>c4e08714-77f2-11e9-a251-0ecca1af61f4</td>\n",
       "    </tr>\n",
       "    <tr>\n",
       "      <th>author_flair_text</th>\n",
       "      <td>Darth Sidious</td>\n",
       "      <td>Sabine Wren</td>\n",
       "    </tr>\n",
       "    <tr>\n",
       "      <th>author_flair_text_color</th>\n",
       "      <td>dark</td>\n",
       "      <td>dark</td>\n",
       "    </tr>\n",
       "    <tr>\n",
       "      <th>author_flair_type</th>\n",
       "      <td>text</td>\n",
       "      <td>text</td>\n",
       "    </tr>\n",
       "    <tr>\n",
       "      <th>author_fullname</th>\n",
       "      <td>t2_68om38vf</td>\n",
       "      <td>t2_454ajye2</td>\n",
       "    </tr>\n",
       "    <tr>\n",
       "      <th>author_patreon_flair</th>\n",
       "      <td>False</td>\n",
       "      <td>False</td>\n",
       "    </tr>\n",
       "    <tr>\n",
       "      <th>author_premium</th>\n",
       "      <td>False</td>\n",
       "      <td>False</td>\n",
       "    </tr>\n",
       "    <tr>\n",
       "      <th>awarders</th>\n",
       "      <td>[]</td>\n",
       "      <td>[]</td>\n",
       "    </tr>\n",
       "    <tr>\n",
       "      <th>can_mod_post</th>\n",
       "      <td>False</td>\n",
       "      <td>False</td>\n",
       "    </tr>\n",
       "    <tr>\n",
       "      <th>content_categories</th>\n",
       "      <td>['entertainment']</td>\n",
       "      <td>['entertainment']</td>\n",
       "    </tr>\n",
       "    <tr>\n",
       "      <th>contest_mode</th>\n",
       "      <td>False</td>\n",
       "      <td>False</td>\n",
       "    </tr>\n",
       "    <tr>\n",
       "      <th>created_utc</th>\n",
       "      <td>1597971100</td>\n",
       "      <td>1597971099</td>\n",
       "    </tr>\n",
       "    <tr>\n",
       "      <th>domain</th>\n",
       "      <td>i.redd.it</td>\n",
       "      <td>self.StarWars</td>\n",
       "    </tr>\n",
       "    <tr>\n",
       "      <th>full_link</th>\n",
       "      <td>https://www.reddit.com/r/StarWars/comments/idm...</td>\n",
       "      <td>https://www.reddit.com/r/StarWars/comments/idm...</td>\n",
       "    </tr>\n",
       "    <tr>\n",
       "      <th>gildings</th>\n",
       "      <td>{}</td>\n",
       "      <td>{}</td>\n",
       "    </tr>\n",
       "    <tr>\n",
       "      <th>id</th>\n",
       "      <td>idmsfu</td>\n",
       "      <td>idmsfk</td>\n",
       "    </tr>\n",
       "    <tr>\n",
       "      <th>is_crosspostable</th>\n",
       "      <td>True</td>\n",
       "      <td>True</td>\n",
       "    </tr>\n",
       "    <tr>\n",
       "      <th>is_meta</th>\n",
       "      <td>False</td>\n",
       "      <td>False</td>\n",
       "    </tr>\n",
       "    <tr>\n",
       "      <th>is_original_content</th>\n",
       "      <td>False</td>\n",
       "      <td>False</td>\n",
       "    </tr>\n",
       "    <tr>\n",
       "      <th>is_reddit_media_domain</th>\n",
       "      <td>True</td>\n",
       "      <td>False</td>\n",
       "    </tr>\n",
       "    <tr>\n",
       "      <th>is_robot_indexable</th>\n",
       "      <td>True</td>\n",
       "      <td>True</td>\n",
       "    </tr>\n",
       "    <tr>\n",
       "      <th>is_self</th>\n",
       "      <td>False</td>\n",
       "      <td>True</td>\n",
       "    </tr>\n",
       "    <tr>\n",
       "      <th>is_video</th>\n",
       "      <td>False</td>\n",
       "      <td>False</td>\n",
       "    </tr>\n",
       "    <tr>\n",
       "      <th>link_flair_background_color</th>\n",
       "      <td>NaN</td>\n",
       "      <td>NaN</td>\n",
       "    </tr>\n",
       "    <tr>\n",
       "      <th>link_flair_css_class</th>\n",
       "      <td>comics</td>\n",
       "      <td>books</td>\n",
       "    </tr>\n",
       "    <tr>\n",
       "      <th>link_flair_richtext</th>\n",
       "      <td>[]</td>\n",
       "      <td>[]</td>\n",
       "    </tr>\n",
       "    <tr>\n",
       "      <th>link_flair_template_id</th>\n",
       "      <td>82152914-623c-11e5-8881-1290328edf53</td>\n",
       "      <td>772bb1c6-623c-11e5-9098-1290900dce7f</td>\n",
       "    </tr>\n",
       "    <tr>\n",
       "      <th>link_flair_text</th>\n",
       "      <td>Comics</td>\n",
       "      <td>Books</td>\n",
       "    </tr>\n",
       "    <tr>\n",
       "      <th>link_flair_text_color</th>\n",
       "      <td>dark</td>\n",
       "      <td>dark</td>\n",
       "    </tr>\n",
       "    <tr>\n",
       "      <th>link_flair_type</th>\n",
       "      <td>text</td>\n",
       "      <td>text</td>\n",
       "    </tr>\n",
       "    <tr>\n",
       "      <th>locked</th>\n",
       "      <td>False</td>\n",
       "      <td>False</td>\n",
       "    </tr>\n",
       "    <tr>\n",
       "      <th>media_only</th>\n",
       "      <td>False</td>\n",
       "      <td>False</td>\n",
       "    </tr>\n",
       "    <tr>\n",
       "      <th>no_follow</th>\n",
       "      <td>True</td>\n",
       "      <td>True</td>\n",
       "    </tr>\n",
       "    <tr>\n",
       "      <th>num_comments</th>\n",
       "      <td>0</td>\n",
       "      <td>0</td>\n",
       "    </tr>\n",
       "    <tr>\n",
       "      <th>num_crossposts</th>\n",
       "      <td>0</td>\n",
       "      <td>0</td>\n",
       "    </tr>\n",
       "    <tr>\n",
       "      <th>over_18</th>\n",
       "      <td>False</td>\n",
       "      <td>False</td>\n",
       "    </tr>\n",
       "    <tr>\n",
       "      <th>parent_whitelist_status</th>\n",
       "      <td>all_ads</td>\n",
       "      <td>all_ads</td>\n",
       "    </tr>\n",
       "    <tr>\n",
       "      <th>permalink</th>\n",
       "      <td>/r/StarWars/comments/idmsfu/a_typo_in_greg_pak...</td>\n",
       "      <td>/r/StarWars/comments/idmsfk/what_are_some_must...</td>\n",
       "    </tr>\n",
       "    <tr>\n",
       "      <th>pinned</th>\n",
       "      <td>False</td>\n",
       "      <td>False</td>\n",
       "    </tr>\n",
       "    <tr>\n",
       "      <th>post_hint</th>\n",
       "      <td>image</td>\n",
       "      <td>NaN</td>\n",
       "    </tr>\n",
       "    <tr>\n",
       "      <th>preview</th>\n",
       "      <td>{'enabled': True, 'images': [{'id': 'sWby9qX5m...</td>\n",
       "      <td>NaN</td>\n",
       "    </tr>\n",
       "    <tr>\n",
       "      <th>pwls</th>\n",
       "      <td>6</td>\n",
       "      <td>6</td>\n",
       "    </tr>\n",
       "    <tr>\n",
       "      <th>retrieved_on</th>\n",
       "      <td>1597971111</td>\n",
       "      <td>1597971109</td>\n",
       "    </tr>\n",
       "    <tr>\n",
       "      <th>score</th>\n",
       "      <td>1</td>\n",
       "      <td>1</td>\n",
       "    </tr>\n",
       "    <tr>\n",
       "      <th>selftext</th>\n",
       "      <td>NaN</td>\n",
       "      <td>I’m sort of a collector of all things Star War...</td>\n",
       "    </tr>\n",
       "    <tr>\n",
       "      <th>send_replies</th>\n",
       "      <td>True</td>\n",
       "      <td>True</td>\n",
       "    </tr>\n",
       "    <tr>\n",
       "      <th>spoiler</th>\n",
       "      <td>False</td>\n",
       "      <td>False</td>\n",
       "    </tr>\n",
       "    <tr>\n",
       "      <th>stickied</th>\n",
       "      <td>False</td>\n",
       "      <td>False</td>\n",
       "    </tr>\n",
       "    <tr>\n",
       "      <th>subreddit</th>\n",
       "      <td>StarWars</td>\n",
       "      <td>StarWars</td>\n",
       "    </tr>\n",
       "    <tr>\n",
       "      <th>subreddit_id</th>\n",
       "      <td>t5_2qi4s</td>\n",
       "      <td>t5_2qi4s</td>\n",
       "    </tr>\n",
       "    <tr>\n",
       "      <th>subreddit_subscribers</th>\n",
       "      <td>1563562</td>\n",
       "      <td>1563562</td>\n",
       "    </tr>\n",
       "    <tr>\n",
       "      <th>subreddit_type</th>\n",
       "      <td>public</td>\n",
       "      <td>public</td>\n",
       "    </tr>\n",
       "    <tr>\n",
       "      <th>thumbnail</th>\n",
       "      <td>https://a.thumbs.redditmedia.com/g_PkAoe7OBSDU...</td>\n",
       "      <td>self</td>\n",
       "    </tr>\n",
       "    <tr>\n",
       "      <th>thumbnail_height</th>\n",
       "      <td>140</td>\n",
       "      <td>NaN</td>\n",
       "    </tr>\n",
       "    <tr>\n",
       "      <th>thumbnail_width</th>\n",
       "      <td>140</td>\n",
       "      <td>NaN</td>\n",
       "    </tr>\n",
       "    <tr>\n",
       "      <th>title</th>\n",
       "      <td>A typo in Greg Pak’s brilliant new Darth Vader...</td>\n",
       "      <td>What are some must have Star Wars book?</td>\n",
       "    </tr>\n",
       "    <tr>\n",
       "      <th>total_awards_received</th>\n",
       "      <td>0</td>\n",
       "      <td>0</td>\n",
       "    </tr>\n",
       "    <tr>\n",
       "      <th>treatment_tags</th>\n",
       "      <td>[]</td>\n",
       "      <td>[]</td>\n",
       "    </tr>\n",
       "    <tr>\n",
       "      <th>upvote_ratio</th>\n",
       "      <td>1</td>\n",
       "      <td>1</td>\n",
       "    </tr>\n",
       "    <tr>\n",
       "      <th>url</th>\n",
       "      <td>https://i.redd.it/0bn1nvfz69i51.jpg</td>\n",
       "      <td>https://www.reddit.com/r/StarWars/comments/idm...</td>\n",
       "    </tr>\n",
       "    <tr>\n",
       "      <th>url_overridden_by_dest</th>\n",
       "      <td>https://i.redd.it/0bn1nvfz69i51.jpg</td>\n",
       "      <td>NaN</td>\n",
       "    </tr>\n",
       "    <tr>\n",
       "      <th>whitelist_status</th>\n",
       "      <td>all_ads</td>\n",
       "      <td>all_ads</td>\n",
       "    </tr>\n",
       "    <tr>\n",
       "      <th>wls</th>\n",
       "      <td>6</td>\n",
       "      <td>6</td>\n",
       "    </tr>\n",
       "    <tr>\n",
       "      <th>media</th>\n",
       "      <td>NaN</td>\n",
       "      <td>NaN</td>\n",
       "    </tr>\n",
       "    <tr>\n",
       "      <th>media_embed</th>\n",
       "      <td>NaN</td>\n",
       "      <td>NaN</td>\n",
       "    </tr>\n",
       "    <tr>\n",
       "      <th>secure_media</th>\n",
       "      <td>NaN</td>\n",
       "      <td>NaN</td>\n",
       "    </tr>\n",
       "    <tr>\n",
       "      <th>secure_media_embed</th>\n",
       "      <td>NaN</td>\n",
       "      <td>NaN</td>\n",
       "    </tr>\n",
       "    <tr>\n",
       "      <th>removed_by_category</th>\n",
       "      <td>NaN</td>\n",
       "      <td>NaN</td>\n",
       "    </tr>\n",
       "    <tr>\n",
       "      <th>gallery_data</th>\n",
       "      <td>NaN</td>\n",
       "      <td>NaN</td>\n",
       "    </tr>\n",
       "    <tr>\n",
       "      <th>is_gallery</th>\n",
       "      <td>NaN</td>\n",
       "      <td>NaN</td>\n",
       "    </tr>\n",
       "    <tr>\n",
       "      <th>media_metadata</th>\n",
       "      <td>NaN</td>\n",
       "      <td>NaN</td>\n",
       "    </tr>\n",
       "    <tr>\n",
       "      <th>crosspost_parent</th>\n",
       "      <td>NaN</td>\n",
       "      <td>NaN</td>\n",
       "    </tr>\n",
       "    <tr>\n",
       "      <th>crosspost_parent_list</th>\n",
       "      <td>NaN</td>\n",
       "      <td>NaN</td>\n",
       "    </tr>\n",
       "    <tr>\n",
       "      <th>author_flair_background_color</th>\n",
       "      <td>NaN</td>\n",
       "      <td>NaN</td>\n",
       "    </tr>\n",
       "    <tr>\n",
       "      <th>author_cakeday</th>\n",
       "      <td>NaN</td>\n",
       "      <td>NaN</td>\n",
       "    </tr>\n",
       "    <tr>\n",
       "      <th>banned_by</th>\n",
       "      <td>NaN</td>\n",
       "      <td>NaN</td>\n",
       "    </tr>\n",
       "    <tr>\n",
       "      <th>edited</th>\n",
       "      <td>NaN</td>\n",
       "      <td>NaN</td>\n",
       "    </tr>\n",
       "    <tr>\n",
       "      <th>gilded</th>\n",
       "      <td>NaN</td>\n",
       "      <td>NaN</td>\n",
       "    </tr>\n",
       "    <tr>\n",
       "      <th>top_awarded_type</th>\n",
       "      <td>NaN</td>\n",
       "      <td>NaN</td>\n",
       "    </tr>\n",
       "    <tr>\n",
       "      <th>category</th>\n",
       "      <td>NaN</td>\n",
       "      <td>NaN</td>\n",
       "    </tr>\n",
       "    <tr>\n",
       "      <th>poll_data</th>\n",
       "      <td>NaN</td>\n",
       "      <td>NaN</td>\n",
       "    </tr>\n",
       "  </tbody>\n",
       "</table>\n",
       "</div>"
      ],
      "text/plain": [
       "                                                                               0  \\\n",
       "Unnamed: 0                                                                     0   \n",
       "all_awardings                                                                 []   \n",
       "allow_live_comments                                                        False   \n",
       "author                                                         ReverendPalpatine   \n",
       "author_flair_css_class                                             2-13 bigFlair   \n",
       "author_flair_richtext                                                         []   \n",
       "author_flair_template_id                    887385a0-77ee-11e9-8a98-0e4259a38b44   \n",
       "author_flair_text                                                  Darth Sidious   \n",
       "author_flair_text_color                                                     dark   \n",
       "author_flair_type                                                           text   \n",
       "author_fullname                                                      t2_68om38vf   \n",
       "author_patreon_flair                                                       False   \n",
       "author_premium                                                             False   \n",
       "awarders                                                                      []   \n",
       "can_mod_post                                                               False   \n",
       "content_categories                                             ['entertainment']   \n",
       "contest_mode                                                               False   \n",
       "created_utc                                                           1597971100   \n",
       "domain                                                                 i.redd.it   \n",
       "full_link                      https://www.reddit.com/r/StarWars/comments/idm...   \n",
       "gildings                                                                      {}   \n",
       "id                                                                        idmsfu   \n",
       "is_crosspostable                                                            True   \n",
       "is_meta                                                                    False   \n",
       "is_original_content                                                        False   \n",
       "is_reddit_media_domain                                                      True   \n",
       "is_robot_indexable                                                          True   \n",
       "is_self                                                                    False   \n",
       "is_video                                                                   False   \n",
       "link_flair_background_color                                                  NaN   \n",
       "link_flair_css_class                                                      comics   \n",
       "link_flair_richtext                                                           []   \n",
       "link_flair_template_id                      82152914-623c-11e5-8881-1290328edf53   \n",
       "link_flair_text                                                           Comics   \n",
       "link_flair_text_color                                                       dark   \n",
       "link_flair_type                                                             text   \n",
       "locked                                                                     False   \n",
       "media_only                                                                 False   \n",
       "no_follow                                                                   True   \n",
       "num_comments                                                                   0   \n",
       "num_crossposts                                                                 0   \n",
       "over_18                                                                    False   \n",
       "parent_whitelist_status                                                  all_ads   \n",
       "permalink                      /r/StarWars/comments/idmsfu/a_typo_in_greg_pak...   \n",
       "pinned                                                                     False   \n",
       "post_hint                                                                  image   \n",
       "preview                        {'enabled': True, 'images': [{'id': 'sWby9qX5m...   \n",
       "pwls                                                                           6   \n",
       "retrieved_on                                                          1597971111   \n",
       "score                                                                          1   \n",
       "selftext                                                                     NaN   \n",
       "send_replies                                                                True   \n",
       "spoiler                                                                    False   \n",
       "stickied                                                                   False   \n",
       "subreddit                                                               StarWars   \n",
       "subreddit_id                                                            t5_2qi4s   \n",
       "subreddit_subscribers                                                    1563562   \n",
       "subreddit_type                                                            public   \n",
       "thumbnail                      https://a.thumbs.redditmedia.com/g_PkAoe7OBSDU...   \n",
       "thumbnail_height                                                             140   \n",
       "thumbnail_width                                                              140   \n",
       "title                          A typo in Greg Pak’s brilliant new Darth Vader...   \n",
       "total_awards_received                                                          0   \n",
       "treatment_tags                                                                []   \n",
       "upvote_ratio                                                                   1   \n",
       "url                                          https://i.redd.it/0bn1nvfz69i51.jpg   \n",
       "url_overridden_by_dest                       https://i.redd.it/0bn1nvfz69i51.jpg   \n",
       "whitelist_status                                                         all_ads   \n",
       "wls                                                                            6   \n",
       "media                                                                        NaN   \n",
       "media_embed                                                                  NaN   \n",
       "secure_media                                                                 NaN   \n",
       "secure_media_embed                                                           NaN   \n",
       "removed_by_category                                                          NaN   \n",
       "gallery_data                                                                 NaN   \n",
       "is_gallery                                                                   NaN   \n",
       "media_metadata                                                               NaN   \n",
       "crosspost_parent                                                             NaN   \n",
       "crosspost_parent_list                                                        NaN   \n",
       "author_flair_background_color                                                NaN   \n",
       "author_cakeday                                                               NaN   \n",
       "banned_by                                                                    NaN   \n",
       "edited                                                                       NaN   \n",
       "gilded                                                                       NaN   \n",
       "top_awarded_type                                                             NaN   \n",
       "category                                                                     NaN   \n",
       "poll_data                                                                    NaN   \n",
       "\n",
       "                                                                               1  \n",
       "Unnamed: 0                                                                     1  \n",
       "all_awardings                                                                 []  \n",
       "allow_live_comments                                                        False  \n",
       "author                                                       LifeAccordingToLevi  \n",
       "author_flair_css_class                                             7-14 bigFlair  \n",
       "author_flair_richtext                                                         []  \n",
       "author_flair_template_id                    c4e08714-77f2-11e9-a251-0ecca1af61f4  \n",
       "author_flair_text                                                    Sabine Wren  \n",
       "author_flair_text_color                                                     dark  \n",
       "author_flair_type                                                           text  \n",
       "author_fullname                                                      t2_454ajye2  \n",
       "author_patreon_flair                                                       False  \n",
       "author_premium                                                             False  \n",
       "awarders                                                                      []  \n",
       "can_mod_post                                                               False  \n",
       "content_categories                                             ['entertainment']  \n",
       "contest_mode                                                               False  \n",
       "created_utc                                                           1597971099  \n",
       "domain                                                             self.StarWars  \n",
       "full_link                      https://www.reddit.com/r/StarWars/comments/idm...  \n",
       "gildings                                                                      {}  \n",
       "id                                                                        idmsfk  \n",
       "is_crosspostable                                                            True  \n",
       "is_meta                                                                    False  \n",
       "is_original_content                                                        False  \n",
       "is_reddit_media_domain                                                     False  \n",
       "is_robot_indexable                                                          True  \n",
       "is_self                                                                     True  \n",
       "is_video                                                                   False  \n",
       "link_flair_background_color                                                  NaN  \n",
       "link_flair_css_class                                                       books  \n",
       "link_flair_richtext                                                           []  \n",
       "link_flair_template_id                      772bb1c6-623c-11e5-9098-1290900dce7f  \n",
       "link_flair_text                                                            Books  \n",
       "link_flair_text_color                                                       dark  \n",
       "link_flair_type                                                             text  \n",
       "locked                                                                     False  \n",
       "media_only                                                                 False  \n",
       "no_follow                                                                   True  \n",
       "num_comments                                                                   0  \n",
       "num_crossposts                                                                 0  \n",
       "over_18                                                                    False  \n",
       "parent_whitelist_status                                                  all_ads  \n",
       "permalink                      /r/StarWars/comments/idmsfk/what_are_some_must...  \n",
       "pinned                                                                     False  \n",
       "post_hint                                                                    NaN  \n",
       "preview                                                                      NaN  \n",
       "pwls                                                                           6  \n",
       "retrieved_on                                                          1597971109  \n",
       "score                                                                          1  \n",
       "selftext                       I’m sort of a collector of all things Star War...  \n",
       "send_replies                                                                True  \n",
       "spoiler                                                                    False  \n",
       "stickied                                                                   False  \n",
       "subreddit                                                               StarWars  \n",
       "subreddit_id                                                            t5_2qi4s  \n",
       "subreddit_subscribers                                                    1563562  \n",
       "subreddit_type                                                            public  \n",
       "thumbnail                                                                   self  \n",
       "thumbnail_height                                                             NaN  \n",
       "thumbnail_width                                                              NaN  \n",
       "title                                    What are some must have Star Wars book?  \n",
       "total_awards_received                                                          0  \n",
       "treatment_tags                                                                []  \n",
       "upvote_ratio                                                                   1  \n",
       "url                            https://www.reddit.com/r/StarWars/comments/idm...  \n",
       "url_overridden_by_dest                                                       NaN  \n",
       "whitelist_status                                                         all_ads  \n",
       "wls                                                                            6  \n",
       "media                                                                        NaN  \n",
       "media_embed                                                                  NaN  \n",
       "secure_media                                                                 NaN  \n",
       "secure_media_embed                                                           NaN  \n",
       "removed_by_category                                                          NaN  \n",
       "gallery_data                                                                 NaN  \n",
       "is_gallery                                                                   NaN  \n",
       "media_metadata                                                               NaN  \n",
       "crosspost_parent                                                             NaN  \n",
       "crosspost_parent_list                                                        NaN  \n",
       "author_flair_background_color                                                NaN  \n",
       "author_cakeday                                                               NaN  \n",
       "banned_by                                                                    NaN  \n",
       "edited                                                                       NaN  \n",
       "gilded                                                                       NaN  \n",
       "top_awarded_type                                                             NaN  \n",
       "category                                                                     NaN  \n",
       "poll_data                                                                    NaN  "
      ]
     },
     "execution_count": 9,
     "metadata": {},
     "output_type": "execute_result"
    }
   ],
   "source": [
    "#check all the features\n",
    "starwars_df.head(2).T"
   ]
  },
  {
   "cell_type": "code",
   "execution_count": 10,
   "metadata": {},
   "outputs": [],
   "source": [
    "#define a function to check whether each row in the dataframe is unique.\n",
    "def uniq_title(df = starwars_df, col = 'title'):\n",
    "    if len(set(df[col])) == len(df.index):\n",
    "        return (\"The input dataframe has no duplicated rows\")\n",
    "    else:\n",
    "        return (\"Warning: the input dataframe has duplicated rows\")"
   ]
  },
  {
   "cell_type": "code",
   "execution_count": 11,
   "metadata": {},
   "outputs": [
    {
     "data": {
      "text/plain": [
       "'Warning: the input dataframe has duplicated rows'"
      ]
     },
     "execution_count": 11,
     "metadata": {},
     "output_type": "execute_result"
    }
   ],
   "source": [
    "uniq_title()"
   ]
  },
  {
   "cell_type": "code",
   "execution_count": 12,
   "metadata": {},
   "outputs": [
    {
     "data": {
      "text/plain": [
       "'Warning: the input dataframe has duplicated rows'"
      ]
     },
     "execution_count": 12,
     "metadata": {},
     "output_type": "execute_result"
    }
   ],
   "source": [
    "uniq_title(df = marvel_df)"
   ]
  },
  {
   "cell_type": "code",
   "execution_count": 15,
   "metadata": {},
   "outputs": [],
   "source": [
    "# Drop the duplicated titles\n",
    "starwars_df.drop_duplicates('title',inplace = True)\n",
    "marvel_df.drop_duplicates('title',inplace = True)"
   ]
  },
  {
   "cell_type": "code",
   "execution_count": 16,
   "metadata": {},
   "outputs": [
    {
     "data": {
      "text/plain": [
       "19184"
      ]
     },
     "execution_count": 16,
     "metadata": {},
     "output_type": "execute_result"
    }
   ],
   "source": [
    "len(set(marvel_df['title']))"
   ]
  },
  {
   "cell_type": "code",
   "execution_count": 17,
   "metadata": {},
   "outputs": [
    {
     "data": {
      "text/plain": [
       "19044"
      ]
     },
     "execution_count": 17,
     "metadata": {},
     "output_type": "execute_result"
    }
   ],
   "source": [
    "len(set(starwars_df['title']))"
   ]
  },
  {
   "cell_type": "code",
   "execution_count": 18,
   "metadata": {},
   "outputs": [
    {
     "name": "stdout",
     "output_type": "stream",
     "text": [
      "(19044, 87)\n",
      "(19184, 84)\n"
     ]
    }
   ],
   "source": [
    "print(starwars_df.shape)\n",
    "print(marvel_df.shape)"
   ]
  },
  {
   "cell_type": "code",
   "execution_count": 19,
   "metadata": {},
   "outputs": [
    {
     "data": {
      "text/plain": [
       "'The input dataframe has no duplicated rows'"
      ]
     },
     "execution_count": 19,
     "metadata": {},
     "output_type": "execute_result"
    }
   ],
   "source": [
    "uniq_title()"
   ]
  },
  {
   "cell_type": "code",
   "execution_count": 20,
   "metadata": {},
   "outputs": [
    {
     "data": {
      "text/plain": [
       "'The input dataframe has no duplicated rows'"
      ]
     },
     "execution_count": 20,
     "metadata": {},
     "output_type": "execute_result"
    }
   ],
   "source": [
    "uniq_title(df = marvel_df)"
   ]
  },
  {
   "cell_type": "markdown",
   "metadata": {},
   "source": [
    "**Comments**\n",
    "- The datasets have no duplicated titles\n",
    "- 19,044 posts from 'StarWars' and 19184 posts from 'marvelstudios' were kept"
   ]
  },
  {
   "cell_type": "markdown",
   "metadata": {},
   "source": [
    "### Number of posts to use\n",
    "The maximum number of posts obtained for this tests was about 20k from each subreddit. First let's investigate how the number of posts will impact on building the models and their predictions. We will compare the following cases with CountVectorizer and Multinomial Naive Bayes model:\n",
    "* 200 posts from each subreddit\n",
    "* 500 posts from each subreddit\n",
    "* 2000 posts from each subreddit\n",
    "* 5000 posts from each subreddit\n",
    "* 10000 posts from each subreddit\n",
    "* maximum number of posts from each subreddit"
   ]
  },
  {
   "cell_type": "code",
   "execution_count": 21,
   "metadata": {},
   "outputs": [],
   "source": [
    "# define a function randomly sample a subset from a dataframe.\n",
    "def get_subset(df = starwars_df,sample_num = 200):\n",
    "    return df.sample(n=sample_num, replace = False)"
   ]
  },
  {
   "cell_type": "code",
   "execution_count": 22,
   "metadata": {},
   "outputs": [],
   "source": [
    "numlist = [200,500,2000,5000,10000]\n",
    "starwars_test = [get_subset(sample_num = n) for n in numlist]"
   ]
  },
  {
   "cell_type": "code",
   "execution_count": 23,
   "metadata": {},
   "outputs": [],
   "source": [
    "marvel_test = [get_subset(df = marvel_df,sample_num = n) for n in numlist]"
   ]
  },
  {
   "cell_type": "code",
   "execution_count": 334,
   "metadata": {},
   "outputs": [],
   "source": [
    "## save the sampled testing data\n",
    "# for i,n in enumerate(numlist):\n",
    "#     starwars_test[i].to_csv('./data/starwars_'+str(n)+'.csv')\n",
    "#     marvel_test[i].to_csv('./data/marvel_'+str(n)+'.csv')\n",
    "#     starcraft_df[i].to_csv('./data/starcraft_'+str(n)+'.csv')"
   ]
  },
  {
   "cell_type": "code",
   "execution_count": 2,
   "metadata": {},
   "outputs": [],
   "source": [
    "# define a function that combines the dataframe from two subreddit,and only keep the select columns for building models\n",
    "def combine_subreddit(df1,df2,col = ['subreddit','title'],subreddits = ('StarWars','marvelstudios')):\n",
    "    data = pd.concat([df1[col],df2[col]])\n",
    "    data.reset_index(inplace = True,drop=True)\n",
    "    data['subreddit'] = data['subreddit'].map({subreddits[0]:1,subreddits[1]:0})\n",
    "    return data     "
   ]
  },
  {
   "cell_type": "code",
   "execution_count": 25,
   "metadata": {},
   "outputs": [],
   "source": [
    "data_max = combine_subreddit(starwars_df,marvel_df)\n",
    "data_10000 = combine_subreddit(starwars_test[4],marvel_test[4])\n",
    "data_5000 = combine_subreddit(starwars_test[3],marvel_test[3])\n",
    "data_2000 = combine_subreddit(starwars_test[2],marvel_test[2])\n",
    "data_500 = combine_subreddit(starwars_test[1],marvel_test[1])\n",
    "data_200 = combine_subreddit(starwars_test[0],marvel_test[0])"
   ]
  },
  {
   "cell_type": "code",
   "execution_count": 26,
   "metadata": {},
   "outputs": [
    {
     "name": "stdout",
     "output_type": "stream",
     "text": [
      "1    200\n",
      "0    200\n",
      "Name: subreddit, dtype: int64\n",
      "1    500\n",
      "0    500\n",
      "Name: subreddit, dtype: int64\n",
      "1    2000\n",
      "0    2000\n",
      "Name: subreddit, dtype: int64\n",
      "1    5000\n",
      "0    5000\n",
      "Name: subreddit, dtype: int64\n",
      "1    10000\n",
      "0    10000\n",
      "Name: subreddit, dtype: int64\n",
      "0    19184\n",
      "1    19044\n",
      "Name: subreddit, dtype: int64\n"
     ]
    }
   ],
   "source": [
    "print(data_200['subreddit'].value_counts())\n",
    "print(data_500['subreddit'].value_counts())\n",
    "print(data_2000['subreddit'].value_counts())\n",
    "print(data_5000['subreddit'].value_counts())\n",
    "print(data_10000['subreddit'].value_counts())\n",
    "print(data_max['subreddit'].value_counts())"
   ]
  },
  {
   "cell_type": "markdown",
   "metadata": {},
   "source": [
    "Now we have 6 sets of datasets for testing on the number of posts"
   ]
  },
  {
   "cell_type": "markdown",
   "metadata": {},
   "source": [
    "#### Function to Run GridSearchCV for user provided vectorizer and model in a pipeline"
   ]
  },
  {
   "cell_type": "code",
   "execution_count": 3,
   "metadata": {},
   "outputs": [],
   "source": [
    "#define a function that run GridSearchCV for user provided vectorizer and model\n",
    "def pipe_gridsearch_cv(X = None, y = None, pipelist = None,pipe_params = None,cv = 5):\n",
    "#     input: X -> the training matrix\n",
    "#            y -> the training target\n",
    "#            pipelist -> the list provoding the things in the Pipeline\n",
    "#            pipe_params -> the parameters for the pipe line\n",
    "#            cv -> the number of folds for cross validation in GridSearchCV\n",
    "#      output: The best estimator from GridSearchCV with the provided parameters\n",
    "\n",
    "    pipe = Pipeline(pipelist)\n",
    "    pipe_params = pipe_params\n",
    "    gs = GridSearchCV(pipe,\n",
    "                      param_grid = pipe_params,\n",
    "                      cv = cv)\n",
    "    gs.fit(X,y)\n",
    "    return gs"
   ]
  },
  {
   "cell_type": "code",
   "execution_count": 5,
   "metadata": {},
   "outputs": [],
   "source": [
    "pipelist = [('cvec',CountVectorizer()),('nb',MultinomialNB())]\n",
    "pipe_params = {\n",
    "    'cvec__max_features' : [2000,3000,4000,5000],\n",
    "    'cvec__min_df' : [2,3],\n",
    "    'cvec__max_df' : [0.9,0.95],\n",
    "    'cvec__ngram_range' : [(1,1),(1,2)],\n",
    "    'cvec__stop_words' : [None,'english']\n",
    "}"
   ]
  },
  {
   "cell_type": "code",
   "execution_count": 272,
   "metadata": {},
   "outputs": [],
   "source": [
    "# Evaluating the models built from different number of posts\n",
    "gs_list = []\n",
    "train_scores=[]\n",
    "test_scores=[]\n",
    "for data in [data_200,data_500,data_2000,data_5000,data_10000,data_max]:\n",
    "    X = data['title']\n",
    "    y = data['subreddit']\n",
    "    X_train, X_test, y_train, y_test = train_test_split(X,\n",
    "                                                        y,\n",
    "                                                        test_size=0.33,\n",
    "                                                        stratify=y,\n",
    "                                                        random_state=42)\n",
    "    gs = pipe_gridsearch_cv(X = X_train, y = y_train, pipelist=pipelist,pipe_params = pipe_params)\n",
    "    train_scores.append(gs.best_estimator_.score(X_train,y_train))\n",
    "    test_scores.append(gs.best_estimator_.score(X_test,y_test))\n",
    "    gs_list.append(gs)"
   ]
  },
  {
   "cell_type": "code",
   "execution_count": 273,
   "metadata": {},
   "outputs": [
    {
     "data": {
      "text/plain": [
       "[0.9216417910447762,\n",
       " 0.9238805970149254,\n",
       " 0.9388059701492537,\n",
       " 0.9328358208955224,\n",
       " 0.9283582089552239,\n",
       " 0.9229657972825238]"
      ]
     },
     "execution_count": 273,
     "metadata": {},
     "output_type": "execute_result"
    }
   ],
   "source": [
    "train_scores"
   ]
  },
  {
   "cell_type": "code",
   "execution_count": 274,
   "metadata": {},
   "outputs": [
    {
     "data": {
      "text/plain": [
       "[0.7045454545454546,\n",
       " 0.8272727272727273,\n",
       " 0.878030303030303,\n",
       " 0.8978787878787878,\n",
       " 0.9018181818181819,\n",
       " 0.904565630944832]"
      ]
     },
     "execution_count": 274,
     "metadata": {},
     "output_type": "execute_result"
    }
   ],
   "source": [
    "test_scores"
   ]
  },
  {
   "cell_type": "code",
   "execution_count": 275,
   "metadata": {},
   "outputs": [
    {
     "name": "stdout",
     "output_type": "stream",
     "text": [
      "0.7278825995807128\n",
      "Pipeline(steps=[('cvec',\n",
      "                 CountVectorizer(max_df=0.9, max_features=2000, min_df=2)),\n",
      "                ('nb', MultinomialNB())])\n",
      "0.8104477611940297\n",
      "Pipeline(steps=[('cvec',\n",
      "                 CountVectorizer(max_df=0.9, max_features=2000, min_df=2)),\n",
      "                ('nb', MultinomialNB())])\n",
      "0.8783582089552239\n",
      "Pipeline(steps=[('cvec',\n",
      "                 CountVectorizer(max_df=0.9, max_features=2000, min_df=2)),\n",
      "                ('nb', MultinomialNB())])\n",
      "0.8898507462686567\n",
      "Pipeline(steps=[('cvec',\n",
      "                 CountVectorizer(max_df=0.9, max_features=4000, min_df=2)),\n",
      "                ('nb', MultinomialNB())])\n",
      "0.9002985074626866\n",
      "Pipeline(steps=[('cvec',\n",
      "                 CountVectorizer(max_df=0.9, max_features=5000, min_df=2)),\n",
      "                ('nb', MultinomialNB())])\n",
      "0.9069187636618681\n",
      "Pipeline(steps=[('cvec',\n",
      "                 CountVectorizer(max_df=0.9, max_features=5000, min_df=2)),\n",
      "                ('nb', MultinomialNB())])\n"
     ]
    }
   ],
   "source": [
    "for gs in gs_list:\n",
    "    print(gs.best_score_)\n",
    "    print(gs.best_estimator_)"
   ]
  },
  {
   "cell_type": "code",
   "execution_count": 279,
   "metadata": {},
   "outputs": [],
   "source": [
    "row_num_scan = pd.DataFrame([train_scores,test_scores],index = ['train','test'],columns= [400,1000,4000,10000,20000,38228]\n",
    ")"
   ]
  },
  {
   "cell_type": "code",
   "execution_count": 285,
   "metadata": {},
   "outputs": [
    {
     "data": {
      "text/html": [
       "<div>\n",
       "<style scoped>\n",
       "    .dataframe tbody tr th:only-of-type {\n",
       "        vertical-align: middle;\n",
       "    }\n",
       "\n",
       "    .dataframe tbody tr th {\n",
       "        vertical-align: top;\n",
       "    }\n",
       "\n",
       "    .dataframe thead th {\n",
       "        text-align: right;\n",
       "    }\n",
       "</style>\n",
       "<table border=\"1\" class=\"dataframe\">\n",
       "  <thead>\n",
       "    <tr style=\"text-align: right;\">\n",
       "      <th></th>\n",
       "      <th>train</th>\n",
       "      <th>test</th>\n",
       "    </tr>\n",
       "  </thead>\n",
       "  <tbody>\n",
       "    <tr>\n",
       "      <th>400</th>\n",
       "      <td>0.921642</td>\n",
       "      <td>0.704545</td>\n",
       "    </tr>\n",
       "    <tr>\n",
       "      <th>1000</th>\n",
       "      <td>0.923881</td>\n",
       "      <td>0.827273</td>\n",
       "    </tr>\n",
       "    <tr>\n",
       "      <th>4000</th>\n",
       "      <td>0.938806</td>\n",
       "      <td>0.878030</td>\n",
       "    </tr>\n",
       "    <tr>\n",
       "      <th>10000</th>\n",
       "      <td>0.932836</td>\n",
       "      <td>0.897879</td>\n",
       "    </tr>\n",
       "    <tr>\n",
       "      <th>20000</th>\n",
       "      <td>0.928358</td>\n",
       "      <td>0.901818</td>\n",
       "    </tr>\n",
       "    <tr>\n",
       "      <th>38228</th>\n",
       "      <td>0.922966</td>\n",
       "      <td>0.904566</td>\n",
       "    </tr>\n",
       "  </tbody>\n",
       "</table>\n",
       "</div>"
      ],
      "text/plain": [
       "          train      test\n",
       "400    0.921642  0.704545\n",
       "1000   0.923881  0.827273\n",
       "4000   0.938806  0.878030\n",
       "10000  0.932836  0.897879\n",
       "20000  0.928358  0.901818\n",
       "38228  0.922966  0.904566"
      ]
     },
     "execution_count": 285,
     "metadata": {},
     "output_type": "execute_result"
    }
   ],
   "source": [
    "row_num_scan.T"
   ]
  },
  {
   "cell_type": "code",
   "execution_count": 329,
   "metadata": {},
   "outputs": [
    {
     "data": {
      "image/png": "[encoded data removed]",
      "text/plain": [
       "<Figure size 864x576 with 1 Axes>"
      ]
     },
     "metadata": {
      "needs_background": "light"
     },
     "output_type": "display_data"
    }
   ],
   "source": [
    "# Plot the scores vs number of posts\n",
    "plt.figure(figsize = (12,8))\n",
    "plt.plot(row_num_scan.T.index,row_num_scan.T['train'],'-*',label = 'train',markersize = 12)\n",
    "plt.plot(row_num_scan.T.index,row_num_scan.T['test'],'-o',label = 'test')\n",
    "plt.xlim(0,40000)\n",
    "plt.ylim(0.6,1)\n",
    "plt.hlines(0.912,0,40000,linestyle = 'dotted')\n",
    "plt.xlabel(\"Number of Posts\",fontsize = 16)\n",
    "plt.ylabel(\"Accurancy\",fontsize = 16)\n",
    "plt.xticks(fontsize = 14)\n",
    "plt.yticks(fontsize = 14)\n",
    "plt.legend(fontsize = 20)\n",
    "plt.savefig('./image/numberofpost.jpeg');"
   ]
  },
  {
   "cell_type": "markdown",
   "metadata": {},
   "source": [
    "**Comments**   \n",
    "* Increasing number of posts will reduce the variance of the model  \n",
    "* Using 20k, and ~40k posts gave similar scores from the MultinomialNB models\n",
    "* In order to compromise the model performance and computation costs, I will using 20k posts for the rest of this project"
   ]
  }
 ],
 "metadata": {
  "kernelspec": {
   "display_name": "Python 3",
   "language": "python",
   "name": "python3"
  },
  "language_info": {
   "codemirror_mode": {
    "name": "ipython",
    "version": 3
   },
   "file_extension": ".py",
   "mimetype": "text/x-python",
   "name": "python",
   "nbconvert_exporter": "python",
   "pygments_lexer": "ipython3",
   "version": "3.7.7"
  }
 },
 "nbformat": 4,
 "nbformat_minor": 4
}
